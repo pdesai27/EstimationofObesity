{
 "cells": [
  {
   "cell_type": "markdown",
   "id": "33a92280-6d4a-487f-a8b5-1d56d2b259f9",
   "metadata": {},
   "source": [
    "# Estimation of obesity levels based on eating habits and physical conditioning"
   ]
  },
  {
   "cell_type": "markdown",
   "id": "cd3d9d76-9d41-40a7-807f-f742c7f4fb7f",
   "metadata": {},
   "source": [
    "## Data Description\n",
    "\n",
    "__Target Variable__\n",
    "\n",
    "`NObeyesdad` - Based on BMI - Categorical\n",
    "\n",
    "\n",
    "__Responders Characteristic__ <br>\n",
    "\n",
    "`Age` - Float <br>\n",
    "`Height` - Float <br>\n",
    "`Weight` - Float <br>\n",
    "`Gender` - Category <br>\n",
    "`Family history with overweight` - Category <br>\n",
    "\n",
    "__Eating Habits__ <br>\n",
    "\n",
    "`FAVC` - Frequent consumption of high caloric food - Category <br>\n",
    "`FCVC` - Frequency of consumption of vegetables - Ordinal <br>\n",
    "`NCP` - Number of main meals - Ordinal <br>\n",
    "`CAEC` - Consumption of food between meals - Ordinal <br>\n",
    "`CH20` - Consumption of water daily - Ordinal <br>\n",
    "`CALC` - Consumption of alcohol - Ordinal <br>\n",
    "\n",
    "__Physical Conditioning__ <br>\n",
    "\n",
    "`SCC` - Calories consumption monitoring - Category <br>\n",
    "`FAF` - Pysical activity frequency - Ordinal <br>\n",
    "`TUE` - Time using technology devices - Ordinal <br>\n",
    "`MTRANS` - Transportation used - Category <br>\n",
    "`SMOKE` - Category <br>"
   ]
  },
  {
   "cell_type": "markdown",
   "id": "3a591427-e2a5-4e51-a60d-dbcfb5b7b2c5",
   "metadata": {},
   "source": [
    "## Libraries"
   ]
  },
  {
   "cell_type": "code",
   "execution_count": 1,
   "id": "266e60a3-a5d0-4157-8996-56eae6a5c3b0",
   "metadata": {},
   "outputs": [],
   "source": [
    "#Import libraries - pandas, numpy, matplotlib, sklearn, pydotplus, stringIO\n",
    "import pandas as pd\n",
    "import numpy as np\n",
    "import matplotlib.pyplot as plt\n",
    "import seaborn as sns\n",
    "from sklearn import metrics\n",
    "from IPython.display import Image  \n",
    "from sklearn.tree import export_graphviz\n",
    "import pydotplus  \n",
    "from six import StringIO\n",
    "import warnings\n",
    "warnings.filterwarnings(\"ignore\")"
   ]
  },
  {
   "cell_type": "markdown",
   "id": "88dfa8d2-1424-4f30-948a-9ee13bba1dea",
   "metadata": {},
   "source": [
    "## Data exploration and EDA"
   ]
  },
  {
   "cell_type": "code",
   "execution_count": 2,
   "id": "5c036440-f7a6-41a8-bca6-fdaef3954e64",
   "metadata": {},
   "outputs": [],
   "source": [
    "df = pd.read_csv(\"ObesityDataSet_raw_and_data_sinthetic.csv\")\n",
    "df.rename(columns = {'family_history_with_overweight':'FHWO'}, inplace = True)"
   ]
  },
  {
   "cell_type": "code",
   "execution_count": 3,
   "id": "35c8839e-36f9-4aae-bac5-5481ddc19334",
   "metadata": {},
   "outputs": [
    {
     "data": {
      "text/html": [
       "<div>\n",
       "<style scoped>\n",
       "    .dataframe tbody tr th:only-of-type {\n",
       "        vertical-align: middle;\n",
       "    }\n",
       "\n",
       "    .dataframe tbody tr th {\n",
       "        vertical-align: top;\n",
       "    }\n",
       "\n",
       "    .dataframe thead th {\n",
       "        text-align: right;\n",
       "    }\n",
       "</style>\n",
       "<table border=\"1\" class=\"dataframe\">\n",
       "  <thead>\n",
       "    <tr style=\"text-align: right;\">\n",
       "      <th></th>\n",
       "      <th>Gender</th>\n",
       "      <th>Age</th>\n",
       "      <th>Height</th>\n",
       "      <th>Weight</th>\n",
       "      <th>FHWO</th>\n",
       "      <th>FAVC</th>\n",
       "      <th>FCVC</th>\n",
       "      <th>NCP</th>\n",
       "      <th>CAEC</th>\n",
       "      <th>SMOKE</th>\n",
       "      <th>CH2O</th>\n",
       "      <th>SCC</th>\n",
       "      <th>FAF</th>\n",
       "      <th>TUE</th>\n",
       "      <th>CALC</th>\n",
       "      <th>MTRANS</th>\n",
       "      <th>NObeyesdad</th>\n",
       "    </tr>\n",
       "  </thead>\n",
       "  <tbody>\n",
       "    <tr>\n",
       "      <th>0</th>\n",
       "      <td>Female</td>\n",
       "      <td>21.0</td>\n",
       "      <td>1.62</td>\n",
       "      <td>64.0</td>\n",
       "      <td>yes</td>\n",
       "      <td>no</td>\n",
       "      <td>2.0</td>\n",
       "      <td>3.0</td>\n",
       "      <td>Sometimes</td>\n",
       "      <td>no</td>\n",
       "      <td>2.0</td>\n",
       "      <td>no</td>\n",
       "      <td>0.0</td>\n",
       "      <td>1.0</td>\n",
       "      <td>no</td>\n",
       "      <td>Public_Transportation</td>\n",
       "      <td>Normal_Weight</td>\n",
       "    </tr>\n",
       "    <tr>\n",
       "      <th>1</th>\n",
       "      <td>Female</td>\n",
       "      <td>21.0</td>\n",
       "      <td>1.52</td>\n",
       "      <td>56.0</td>\n",
       "      <td>yes</td>\n",
       "      <td>no</td>\n",
       "      <td>3.0</td>\n",
       "      <td>3.0</td>\n",
       "      <td>Sometimes</td>\n",
       "      <td>yes</td>\n",
       "      <td>3.0</td>\n",
       "      <td>yes</td>\n",
       "      <td>3.0</td>\n",
       "      <td>0.0</td>\n",
       "      <td>Sometimes</td>\n",
       "      <td>Public_Transportation</td>\n",
       "      <td>Normal_Weight</td>\n",
       "    </tr>\n",
       "    <tr>\n",
       "      <th>2</th>\n",
       "      <td>Male</td>\n",
       "      <td>23.0</td>\n",
       "      <td>1.80</td>\n",
       "      <td>77.0</td>\n",
       "      <td>yes</td>\n",
       "      <td>no</td>\n",
       "      <td>2.0</td>\n",
       "      <td>3.0</td>\n",
       "      <td>Sometimes</td>\n",
       "      <td>no</td>\n",
       "      <td>2.0</td>\n",
       "      <td>no</td>\n",
       "      <td>2.0</td>\n",
       "      <td>1.0</td>\n",
       "      <td>Frequently</td>\n",
       "      <td>Public_Transportation</td>\n",
       "      <td>Normal_Weight</td>\n",
       "    </tr>\n",
       "    <tr>\n",
       "      <th>3</th>\n",
       "      <td>Male</td>\n",
       "      <td>27.0</td>\n",
       "      <td>1.80</td>\n",
       "      <td>87.0</td>\n",
       "      <td>no</td>\n",
       "      <td>no</td>\n",
       "      <td>3.0</td>\n",
       "      <td>3.0</td>\n",
       "      <td>Sometimes</td>\n",
       "      <td>no</td>\n",
       "      <td>2.0</td>\n",
       "      <td>no</td>\n",
       "      <td>2.0</td>\n",
       "      <td>0.0</td>\n",
       "      <td>Frequently</td>\n",
       "      <td>Walking</td>\n",
       "      <td>Overweight_Level_I</td>\n",
       "    </tr>\n",
       "    <tr>\n",
       "      <th>4</th>\n",
       "      <td>Male</td>\n",
       "      <td>22.0</td>\n",
       "      <td>1.78</td>\n",
       "      <td>89.8</td>\n",
       "      <td>no</td>\n",
       "      <td>no</td>\n",
       "      <td>2.0</td>\n",
       "      <td>1.0</td>\n",
       "      <td>Sometimes</td>\n",
       "      <td>no</td>\n",
       "      <td>2.0</td>\n",
       "      <td>no</td>\n",
       "      <td>0.0</td>\n",
       "      <td>0.0</td>\n",
       "      <td>Sometimes</td>\n",
       "      <td>Public_Transportation</td>\n",
       "      <td>Overweight_Level_II</td>\n",
       "    </tr>\n",
       "  </tbody>\n",
       "</table>\n",
       "</div>"
      ],
      "text/plain": [
       "   Gender   Age  Height  Weight FHWO FAVC  FCVC  NCP       CAEC SMOKE  CH2O  \\\n",
       "0  Female  21.0    1.62    64.0  yes   no   2.0  3.0  Sometimes    no   2.0   \n",
       "1  Female  21.0    1.52    56.0  yes   no   3.0  3.0  Sometimes   yes   3.0   \n",
       "2    Male  23.0    1.80    77.0  yes   no   2.0  3.0  Sometimes    no   2.0   \n",
       "3    Male  27.0    1.80    87.0   no   no   3.0  3.0  Sometimes    no   2.0   \n",
       "4    Male  22.0    1.78    89.8   no   no   2.0  1.0  Sometimes    no   2.0   \n",
       "\n",
       "   SCC  FAF  TUE        CALC                 MTRANS           NObeyesdad  \n",
       "0   no  0.0  1.0          no  Public_Transportation        Normal_Weight  \n",
       "1  yes  3.0  0.0   Sometimes  Public_Transportation        Normal_Weight  \n",
       "2   no  2.0  1.0  Frequently  Public_Transportation        Normal_Weight  \n",
       "3   no  2.0  0.0  Frequently                Walking   Overweight_Level_I  \n",
       "4   no  0.0  0.0   Sometimes  Public_Transportation  Overweight_Level_II  "
      ]
     },
     "execution_count": 3,
     "metadata": {},
     "output_type": "execute_result"
    }
   ],
   "source": [
    "df.head()"
   ]
  },
  {
   "cell_type": "code",
   "execution_count": 4,
   "id": "b9426098-e72d-453d-b36b-4c89bb8355ae",
   "metadata": {},
   "outputs": [
    {
     "data": {
      "text/plain": [
       "(2111, 17)"
      ]
     },
     "execution_count": 4,
     "metadata": {},
     "output_type": "execute_result"
    }
   ],
   "source": [
    "df.shape"
   ]
  },
  {
   "cell_type": "code",
   "execution_count": 5,
   "id": "ea09f053-bdc4-4b8c-8196-f40e6c27aa99",
   "metadata": {},
   "outputs": [
    {
     "name": "stdout",
     "output_type": "stream",
     "text": [
      "<class 'pandas.core.frame.DataFrame'>\n",
      "RangeIndex: 2111 entries, 0 to 2110\n",
      "Data columns (total 17 columns):\n",
      " #   Column      Non-Null Count  Dtype  \n",
      "---  ------      --------------  -----  \n",
      " 0   Gender      2111 non-null   object \n",
      " 1   Age         2111 non-null   float64\n",
      " 2   Height      2111 non-null   float64\n",
      " 3   Weight      2111 non-null   float64\n",
      " 4   FHWO        2111 non-null   object \n",
      " 5   FAVC        2111 non-null   object \n",
      " 6   FCVC        2111 non-null   float64\n",
      " 7   NCP         2111 non-null   float64\n",
      " 8   CAEC        2111 non-null   object \n",
      " 9   SMOKE       2111 non-null   object \n",
      " 10  CH2O        2111 non-null   float64\n",
      " 11  SCC         2111 non-null   object \n",
      " 12  FAF         2111 non-null   float64\n",
      " 13  TUE         2111 non-null   float64\n",
      " 14  CALC        2111 non-null   object \n",
      " 15  MTRANS      2111 non-null   object \n",
      " 16  NObeyesdad  2111 non-null   object \n",
      "dtypes: float64(8), object(9)\n",
      "memory usage: 280.5+ KB\n"
     ]
    }
   ],
   "source": [
    "df.info()"
   ]
  },
  {
   "cell_type": "code",
   "execution_count": 6,
   "id": "ddbe63e1-3064-44c7-8876-d28e4cb99536",
   "metadata": {},
   "outputs": [
    {
     "data": {
      "text/html": [
       "<div>\n",
       "<style scoped>\n",
       "    .dataframe tbody tr th:only-of-type {\n",
       "        vertical-align: middle;\n",
       "    }\n",
       "\n",
       "    .dataframe tbody tr th {\n",
       "        vertical-align: top;\n",
       "    }\n",
       "\n",
       "    .dataframe thead th {\n",
       "        text-align: right;\n",
       "    }\n",
       "</style>\n",
       "<table border=\"1\" class=\"dataframe\">\n",
       "  <thead>\n",
       "    <tr style=\"text-align: right;\">\n",
       "      <th></th>\n",
       "      <th>count</th>\n",
       "      <th>mean</th>\n",
       "      <th>std</th>\n",
       "      <th>min</th>\n",
       "      <th>25%</th>\n",
       "      <th>50%</th>\n",
       "      <th>75%</th>\n",
       "      <th>max</th>\n",
       "    </tr>\n",
       "  </thead>\n",
       "  <tbody>\n",
       "    <tr>\n",
       "      <th>Age</th>\n",
       "      <td>2111.0</td>\n",
       "      <td>24.312600</td>\n",
       "      <td>6.345968</td>\n",
       "      <td>14.00</td>\n",
       "      <td>19.947192</td>\n",
       "      <td>22.777890</td>\n",
       "      <td>26.000000</td>\n",
       "      <td>61.00</td>\n",
       "    </tr>\n",
       "    <tr>\n",
       "      <th>Height</th>\n",
       "      <td>2111.0</td>\n",
       "      <td>1.701677</td>\n",
       "      <td>0.093305</td>\n",
       "      <td>1.45</td>\n",
       "      <td>1.630000</td>\n",
       "      <td>1.700499</td>\n",
       "      <td>1.768464</td>\n",
       "      <td>1.98</td>\n",
       "    </tr>\n",
       "    <tr>\n",
       "      <th>Weight</th>\n",
       "      <td>2111.0</td>\n",
       "      <td>86.586058</td>\n",
       "      <td>26.191172</td>\n",
       "      <td>39.00</td>\n",
       "      <td>65.473343</td>\n",
       "      <td>83.000000</td>\n",
       "      <td>107.430682</td>\n",
       "      <td>173.00</td>\n",
       "    </tr>\n",
       "    <tr>\n",
       "      <th>FCVC</th>\n",
       "      <td>2111.0</td>\n",
       "      <td>2.419043</td>\n",
       "      <td>0.533927</td>\n",
       "      <td>1.00</td>\n",
       "      <td>2.000000</td>\n",
       "      <td>2.385502</td>\n",
       "      <td>3.000000</td>\n",
       "      <td>3.00</td>\n",
       "    </tr>\n",
       "    <tr>\n",
       "      <th>NCP</th>\n",
       "      <td>2111.0</td>\n",
       "      <td>2.685628</td>\n",
       "      <td>0.778039</td>\n",
       "      <td>1.00</td>\n",
       "      <td>2.658738</td>\n",
       "      <td>3.000000</td>\n",
       "      <td>3.000000</td>\n",
       "      <td>4.00</td>\n",
       "    </tr>\n",
       "    <tr>\n",
       "      <th>CH2O</th>\n",
       "      <td>2111.0</td>\n",
       "      <td>2.008011</td>\n",
       "      <td>0.612953</td>\n",
       "      <td>1.00</td>\n",
       "      <td>1.584812</td>\n",
       "      <td>2.000000</td>\n",
       "      <td>2.477420</td>\n",
       "      <td>3.00</td>\n",
       "    </tr>\n",
       "    <tr>\n",
       "      <th>FAF</th>\n",
       "      <td>2111.0</td>\n",
       "      <td>1.010298</td>\n",
       "      <td>0.850592</td>\n",
       "      <td>0.00</td>\n",
       "      <td>0.124505</td>\n",
       "      <td>1.000000</td>\n",
       "      <td>1.666678</td>\n",
       "      <td>3.00</td>\n",
       "    </tr>\n",
       "    <tr>\n",
       "      <th>TUE</th>\n",
       "      <td>2111.0</td>\n",
       "      <td>0.657866</td>\n",
       "      <td>0.608927</td>\n",
       "      <td>0.00</td>\n",
       "      <td>0.000000</td>\n",
       "      <td>0.625350</td>\n",
       "      <td>1.000000</td>\n",
       "      <td>2.00</td>\n",
       "    </tr>\n",
       "  </tbody>\n",
       "</table>\n",
       "</div>"
      ],
      "text/plain": [
       "         count       mean        std    min        25%        50%         75%  \\\n",
       "Age     2111.0  24.312600   6.345968  14.00  19.947192  22.777890   26.000000   \n",
       "Height  2111.0   1.701677   0.093305   1.45   1.630000   1.700499    1.768464   \n",
       "Weight  2111.0  86.586058  26.191172  39.00  65.473343  83.000000  107.430682   \n",
       "FCVC    2111.0   2.419043   0.533927   1.00   2.000000   2.385502    3.000000   \n",
       "NCP     2111.0   2.685628   0.778039   1.00   2.658738   3.000000    3.000000   \n",
       "CH2O    2111.0   2.008011   0.612953   1.00   1.584812   2.000000    2.477420   \n",
       "FAF     2111.0   1.010298   0.850592   0.00   0.124505   1.000000    1.666678   \n",
       "TUE     2111.0   0.657866   0.608927   0.00   0.000000   0.625350    1.000000   \n",
       "\n",
       "           max  \n",
       "Age      61.00  \n",
       "Height    1.98  \n",
       "Weight  173.00  \n",
       "FCVC      3.00  \n",
       "NCP       4.00  \n",
       "CH2O      3.00  \n",
       "FAF       3.00  \n",
       "TUE       2.00  "
      ]
     },
     "execution_count": 6,
     "metadata": {},
     "output_type": "execute_result"
    }
   ],
   "source": [
    "df.describe().T"
   ]
  },
  {
   "cell_type": "code",
   "execution_count": 7,
   "id": "939d4d39-96c3-4d91-b7e7-f06b3f78439b",
   "metadata": {},
   "outputs": [
    {
     "name": "stdout",
     "output_type": "stream",
     "text": [
      "Male      1068\n",
      "Female    1043\n",
      "Name: Gender, dtype: int64\n",
      "\n",
      "\n",
      "yes    1726\n",
      "no      385\n",
      "Name: FHWO, dtype: int64\n",
      "\n",
      "\n",
      "yes    1866\n",
      "no      245\n",
      "Name: FAVC, dtype: int64\n",
      "\n",
      "\n",
      "Sometimes     1765\n",
      "Frequently     242\n",
      "Always          53\n",
      "no              51\n",
      "Name: CAEC, dtype: int64\n",
      "\n",
      "\n",
      "no     2067\n",
      "yes      44\n",
      "Name: SMOKE, dtype: int64\n",
      "\n",
      "\n",
      "no     2015\n",
      "yes      96\n",
      "Name: SCC, dtype: int64\n",
      "\n",
      "\n",
      "Sometimes     1401\n",
      "no             639\n",
      "Frequently      70\n",
      "Always           1\n",
      "Name: CALC, dtype: int64\n",
      "\n",
      "\n",
      "Public_Transportation    1580\n",
      "Automobile                457\n",
      "Walking                    56\n",
      "Motorbike                  11\n",
      "Bike                        7\n",
      "Name: MTRANS, dtype: int64\n",
      "\n",
      "\n",
      "Obesity_Type_I         351\n",
      "Obesity_Type_III       324\n",
      "Obesity_Type_II        297\n",
      "Overweight_Level_I     290\n",
      "Overweight_Level_II    290\n",
      "Normal_Weight          287\n",
      "Insufficient_Weight    272\n",
      "Name: NObeyesdad, dtype: int64\n",
      "\n",
      "\n"
     ]
    }
   ],
   "source": [
    "for c in df.columns:\n",
    "    if df[c].dtype == object:\n",
    "        print(df[c].value_counts(ascending = False))\n",
    "        print(\"\\n\")"
   ]
  },
  {
   "cell_type": "code",
   "execution_count": 8,
   "id": "ac75a50b-9a93-4bcf-a1b7-bfbcdc4c5897",
   "metadata": {},
   "outputs": [
    {
     "data": {
      "image/png": "[encoded data removed]",
      "text/plain": [
       "<Figure size 432x288 with 1 Axes>"
      ]
     },
     "metadata": {
      "needs_background": "light"
     },
     "output_type": "display_data"
    }
   ],
   "source": [
    "#Distibution of Age\n",
    "sns.histplot(data=df, x=\"Age\", kde=True)\n",
    "plt.show()"
   ]
  },
  {
   "cell_type": "code",
   "execution_count": 9,
   "id": "7bc25432-7a57-4c57-8a33-cf75b471a4ee",
   "metadata": {},
   "outputs": [
    {
     "data": {
      "image/png": "[encoded data removed]",
      "text/plain": [
       "<Figure size 432x288 with 1 Axes>"
      ]
     },
     "metadata": {
      "needs_background": "light"
     },
     "output_type": "display_data"
    }
   ],
   "source": [
    "#Distribution of Height\n",
    "ax = sns.histplot(data=df, x=\"Height\", kde=True)\n",
    "ax.set(xlabel='Height in Metre', ylabel='Count')\n",
    "plt.show()"
   ]
  },
  {
   "cell_type": "code",
   "execution_count": 10,
   "id": "82ad115b-b92e-4402-bc10-54a2d97fe8a5",
   "metadata": {},
   "outputs": [
    {
     "data": {
      "image/png": "[encoded data removed]",
      "text/plain": [
       "<Figure size 432x288 with 1 Axes>"
      ]
     },
     "metadata": {
      "needs_background": "light"
     },
     "output_type": "display_data"
    }
   ],
   "source": [
    "#Distribution of Weight\n",
    "ax = sns.histplot(data=df, x=\"Weight\", kde=True)\n",
    "ax.set(xlabel='Weight in Kilogram', ylabel='Count')\n",
    "plt.show()"
   ]
  },
  {
   "cell_type": "code",
   "execution_count": 11,
   "id": "818fd5cd-3279-494a-8f28-a0d6ba186183",
   "metadata": {},
   "outputs": [],
   "source": [
    "#round(5.58)\n",
    "#df['FCVC'].astype('int32').round()"
   ]
  },
  {
   "cell_type": "code",
   "execution_count": 12,
   "id": "edb5470b-ef5e-40a8-8d45-66186dea9709",
   "metadata": {},
   "outputs": [],
   "source": [
    "#Convert categorical data from float to int to be used as ordinal categorical data\n",
    "#Keeping them as numbers so that we don't have to encode them while training models\n",
    "ocolumns = ['FCVC','NCP','CH2O','FAF','TUE']\n",
    "\n",
    "for col in ocolumns:\n",
    "    df[col] = df[col].astype('int32').round()"
   ]
  },
  {
   "cell_type": "code",
   "execution_count": 13,
   "id": "8e8656a3-2f51-4653-b7a3-28360849c5de",
   "metadata": {},
   "outputs": [
    {
     "data": {
      "text/plain": [
       "Gender         object\n",
       "Age           float64\n",
       "Height        float64\n",
       "Weight        float64\n",
       "FHWO           object\n",
       "FAVC           object\n",
       "FCVC            int32\n",
       "NCP             int32\n",
       "CAEC           object\n",
       "SMOKE          object\n",
       "CH2O            int32\n",
       "SCC            object\n",
       "FAF             int32\n",
       "TUE             int32\n",
       "CALC           object\n",
       "MTRANS         object\n",
       "NObeyesdad     object\n",
       "dtype: object"
      ]
     },
     "execution_count": 13,
     "metadata": {},
     "output_type": "execute_result"
    }
   ],
   "source": [
    "df.dtypes"
   ]
  },
  {
   "cell_type": "code",
   "execution_count": 14,
   "id": "743ae841-fd28-4824-8092-96c2fcf2c46c",
   "metadata": {},
   "outputs": [
    {
     "data": {
      "image/png": "[encoded data removed]",
      "text/plain": [
       "<Figure size 1080x864 with 9 Axes>"
      ]
     },
     "metadata": {
      "needs_background": "light"
     },
     "output_type": "display_data"
    }
   ],
   "source": [
    "#Categorical variables\n",
    "columns = ['Gender', 'FHWO', 'FAVC', 'CAEC', 'SMOKE','SCC', 'CALC', 'MTRANS', 'NObeyesdad']\n",
    "\n",
    "fig, ax = plt.subplots(3, 3, figsize=(15, 12))\n",
    "for col, subplot in zip(columns, ax.flatten()):\n",
    "    sns.countplot(data= df, x = df[col], ax=subplot, order = df[col].value_counts().index, palette=\"muted\")\n",
    "    for item in subplot.get_xticklabels():\n",
    "        item.set_rotation(60)\n",
    "    \n",
    "# show figure & plots\n",
    "fig.suptitle(\"Categorigal Variables\", y = 0.9, fontsize = 18)\n",
    "plt.tight_layout(pad=5, w_pad=0.8, h_pad=1)\n",
    "plt.show()"
   ]
  },
  {
   "cell_type": "code",
   "execution_count": 15,
   "id": "f88857be-d9f2-4689-876e-dd30a0e5ef86",
   "metadata": {},
   "outputs": [
    {
     "data": {
      "image/png": "[encoded data removed]",
      "text/plain": [
       "<Figure size 1152x432 with 5 Axes>"
      ]
     },
     "metadata": {
      "needs_background": "light"
     },
     "output_type": "display_data"
    }
   ],
   "source": [
    "#Ordinal variables\n",
    "ocolumns = ['FCVC','NCP','CH2O','FAF','TUE']\n",
    "\n",
    "fig, ax = plt.subplots(1, len(ocolumns), figsize=(16,6))\n",
    "for col, subplot in zip(ocolumns, ax.flatten()):\n",
    "    sns.countplot(data= df, x = df[col], ax=subplot, order = df[col].value_counts().index, palette=\"Paired\")\n",
    "    \n",
    "#Show figure & plots\n",
    "fig.suptitle(\"Ordinal Variables\", y = 0.8, fontsize = 18)\n",
    "plt.tight_layout(pad=5, w_pad=0.5, h_pad=1)\n",
    "plt.show()"
   ]
  },
  {
   "cell_type": "markdown",
   "id": "75eee2ec-364e-4160-9ebb-9bf937383c1a",
   "metadata": {},
   "source": [
    "## Machine Learning Models"
   ]
  },
  {
   "cell_type": "markdown",
   "id": "e1297903-f95c-423d-bc2f-2fa5d9c1061c",
   "metadata": {},
   "source": [
    "### Pre-processing data for machine learning"
   ]
  },
  {
   "cell_type": "code",
   "execution_count": 16,
   "id": "40b6c83a-73ae-4a66-9a6b-7adc96ed9d2e",
   "metadata": {},
   "outputs": [],
   "source": [
    "#Label encoder for nominal data\n",
    "from sklearn.preprocessing import LabelEncoder\n",
    "\n",
    "#Creating instance of labelencoder\n",
    "labelencoder = LabelEncoder()\n",
    "\n",
    "#Assigning numerical values to categorical data\n",
    "nominal_col = ['Gender', 'FHWO', 'FAVC', 'SMOKE','SCC', 'MTRANS']\n",
    "\n",
    "for i in nominal_col:\n",
    "    df[i] = labelencoder.fit_transform(df[i])"
   ]
  },
  {
   "cell_type": "code",
   "execution_count": 17,
   "id": "d7d5dc37-2c76-49ff-bada-f3455dd7479f",
   "metadata": {},
   "outputs": [
    {
     "data": {
      "text/html": [
       "<div>\n",
       "<style scoped>\n",
       "    .dataframe tbody tr th:only-of-type {\n",
       "        vertical-align: middle;\n",
       "    }\n",
       "\n",
       "    .dataframe tbody tr th {\n",
       "        vertical-align: top;\n",
       "    }\n",
       "\n",
       "    .dataframe thead th {\n",
       "        text-align: right;\n",
       "    }\n",
       "</style>\n",
       "<table border=\"1\" class=\"dataframe\">\n",
       "  <thead>\n",
       "    <tr style=\"text-align: right;\">\n",
       "      <th></th>\n",
       "      <th>Gender</th>\n",
       "      <th>Age</th>\n",
       "      <th>Height</th>\n",
       "      <th>Weight</th>\n",
       "      <th>FHWO</th>\n",
       "      <th>FAVC</th>\n",
       "      <th>FCVC</th>\n",
       "      <th>NCP</th>\n",
       "      <th>CAEC</th>\n",
       "      <th>SMOKE</th>\n",
       "      <th>CH2O</th>\n",
       "      <th>SCC</th>\n",
       "      <th>FAF</th>\n",
       "      <th>TUE</th>\n",
       "      <th>CALC</th>\n",
       "      <th>MTRANS</th>\n",
       "      <th>NObeyesdad</th>\n",
       "    </tr>\n",
       "  </thead>\n",
       "  <tbody>\n",
       "    <tr>\n",
       "      <th>0</th>\n",
       "      <td>0</td>\n",
       "      <td>21.0</td>\n",
       "      <td>1.62</td>\n",
       "      <td>64.0</td>\n",
       "      <td>1</td>\n",
       "      <td>0</td>\n",
       "      <td>2</td>\n",
       "      <td>3</td>\n",
       "      <td>Sometimes</td>\n",
       "      <td>0</td>\n",
       "      <td>2</td>\n",
       "      <td>0</td>\n",
       "      <td>0</td>\n",
       "      <td>1</td>\n",
       "      <td>no</td>\n",
       "      <td>3</td>\n",
       "      <td>Normal_Weight</td>\n",
       "    </tr>\n",
       "    <tr>\n",
       "      <th>1</th>\n",
       "      <td>0</td>\n",
       "      <td>21.0</td>\n",
       "      <td>1.52</td>\n",
       "      <td>56.0</td>\n",
       "      <td>1</td>\n",
       "      <td>0</td>\n",
       "      <td>3</td>\n",
       "      <td>3</td>\n",
       "      <td>Sometimes</td>\n",
       "      <td>1</td>\n",
       "      <td>3</td>\n",
       "      <td>1</td>\n",
       "      <td>3</td>\n",
       "      <td>0</td>\n",
       "      <td>Sometimes</td>\n",
       "      <td>3</td>\n",
       "      <td>Normal_Weight</td>\n",
       "    </tr>\n",
       "    <tr>\n",
       "      <th>2</th>\n",
       "      <td>1</td>\n",
       "      <td>23.0</td>\n",
       "      <td>1.80</td>\n",
       "      <td>77.0</td>\n",
       "      <td>1</td>\n",
       "      <td>0</td>\n",
       "      <td>2</td>\n",
       "      <td>3</td>\n",
       "      <td>Sometimes</td>\n",
       "      <td>0</td>\n",
       "      <td>2</td>\n",
       "      <td>0</td>\n",
       "      <td>2</td>\n",
       "      <td>1</td>\n",
       "      <td>Frequently</td>\n",
       "      <td>3</td>\n",
       "      <td>Normal_Weight</td>\n",
       "    </tr>\n",
       "    <tr>\n",
       "      <th>3</th>\n",
       "      <td>1</td>\n",
       "      <td>27.0</td>\n",
       "      <td>1.80</td>\n",
       "      <td>87.0</td>\n",
       "      <td>0</td>\n",
       "      <td>0</td>\n",
       "      <td>3</td>\n",
       "      <td>3</td>\n",
       "      <td>Sometimes</td>\n",
       "      <td>0</td>\n",
       "      <td>2</td>\n",
       "      <td>0</td>\n",
       "      <td>2</td>\n",
       "      <td>0</td>\n",
       "      <td>Frequently</td>\n",
       "      <td>4</td>\n",
       "      <td>Overweight_Level_I</td>\n",
       "    </tr>\n",
       "    <tr>\n",
       "      <th>4</th>\n",
       "      <td>1</td>\n",
       "      <td>22.0</td>\n",
       "      <td>1.78</td>\n",
       "      <td>89.8</td>\n",
       "      <td>0</td>\n",
       "      <td>0</td>\n",
       "      <td>2</td>\n",
       "      <td>1</td>\n",
       "      <td>Sometimes</td>\n",
       "      <td>0</td>\n",
       "      <td>2</td>\n",
       "      <td>0</td>\n",
       "      <td>0</td>\n",
       "      <td>0</td>\n",
       "      <td>Sometimes</td>\n",
       "      <td>3</td>\n",
       "      <td>Overweight_Level_II</td>\n",
       "    </tr>\n",
       "  </tbody>\n",
       "</table>\n",
       "</div>"
      ],
      "text/plain": [
       "   Gender   Age  Height  Weight  FHWO  FAVC  FCVC  NCP       CAEC  SMOKE  \\\n",
       "0       0  21.0    1.62    64.0     1     0     2    3  Sometimes      0   \n",
       "1       0  21.0    1.52    56.0     1     0     3    3  Sometimes      1   \n",
       "2       1  23.0    1.80    77.0     1     0     2    3  Sometimes      0   \n",
       "3       1  27.0    1.80    87.0     0     0     3    3  Sometimes      0   \n",
       "4       1  22.0    1.78    89.8     0     0     2    1  Sometimes      0   \n",
       "\n",
       "   CH2O  SCC  FAF  TUE        CALC  MTRANS           NObeyesdad  \n",
       "0     2    0    0    1          no       3        Normal_Weight  \n",
       "1     3    1    3    0   Sometimes       3        Normal_Weight  \n",
       "2     2    0    2    1  Frequently       3        Normal_Weight  \n",
       "3     2    0    2    0  Frequently       4   Overweight_Level_I  \n",
       "4     2    0    0    0   Sometimes       3  Overweight_Level_II  "
      ]
     },
     "execution_count": 17,
     "metadata": {},
     "output_type": "execute_result"
    }
   ],
   "source": [
    "df.head()"
   ]
  },
  {
   "cell_type": "code",
   "execution_count": 18,
   "id": "9d53c068-0d9b-478d-b807-80020112f9c5",
   "metadata": {},
   "outputs": [],
   "source": [
    "#Encoding ordinal data\n",
    "temp_dict = {'no': 0, 'Sometimes': 1, 'Frequently': 2, 'Always': 3}\n",
    "df['CALC'] = df['CALC'].map(temp_dict)\n",
    "df['CAEC'] = df['CAEC'].map(temp_dict)"
   ]
  },
  {
   "cell_type": "code",
   "execution_count": 19,
   "id": "356fef28-ef7e-43d8-9cb8-0504092b0b16",
   "metadata": {},
   "outputs": [
    {
     "data": {
      "text/html": [
       "<div>\n",
       "<style scoped>\n",
       "    .dataframe tbody tr th:only-of-type {\n",
       "        vertical-align: middle;\n",
       "    }\n",
       "\n",
       "    .dataframe tbody tr th {\n",
       "        vertical-align: top;\n",
       "    }\n",
       "\n",
       "    .dataframe thead th {\n",
       "        text-align: right;\n",
       "    }\n",
       "</style>\n",
       "<table border=\"1\" class=\"dataframe\">\n",
       "  <thead>\n",
       "    <tr style=\"text-align: right;\">\n",
       "      <th></th>\n",
       "      <th>Gender</th>\n",
       "      <th>Age</th>\n",
       "      <th>Height</th>\n",
       "      <th>Weight</th>\n",
       "      <th>FHWO</th>\n",
       "      <th>FAVC</th>\n",
       "      <th>FCVC</th>\n",
       "      <th>NCP</th>\n",
       "      <th>CAEC</th>\n",
       "      <th>SMOKE</th>\n",
       "      <th>CH2O</th>\n",
       "      <th>SCC</th>\n",
       "      <th>FAF</th>\n",
       "      <th>TUE</th>\n",
       "      <th>CALC</th>\n",
       "      <th>MTRANS</th>\n",
       "      <th>NObeyesdad</th>\n",
       "    </tr>\n",
       "  </thead>\n",
       "  <tbody>\n",
       "    <tr>\n",
       "      <th>0</th>\n",
       "      <td>0</td>\n",
       "      <td>21.0</td>\n",
       "      <td>1.62</td>\n",
       "      <td>64.0</td>\n",
       "      <td>1</td>\n",
       "      <td>0</td>\n",
       "      <td>2</td>\n",
       "      <td>3</td>\n",
       "      <td>1</td>\n",
       "      <td>0</td>\n",
       "      <td>2</td>\n",
       "      <td>0</td>\n",
       "      <td>0</td>\n",
       "      <td>1</td>\n",
       "      <td>0</td>\n",
       "      <td>3</td>\n",
       "      <td>Normal_Weight</td>\n",
       "    </tr>\n",
       "    <tr>\n",
       "      <th>1</th>\n",
       "      <td>0</td>\n",
       "      <td>21.0</td>\n",
       "      <td>1.52</td>\n",
       "      <td>56.0</td>\n",
       "      <td>1</td>\n",
       "      <td>0</td>\n",
       "      <td>3</td>\n",
       "      <td>3</td>\n",
       "      <td>1</td>\n",
       "      <td>1</td>\n",
       "      <td>3</td>\n",
       "      <td>1</td>\n",
       "      <td>3</td>\n",
       "      <td>0</td>\n",
       "      <td>1</td>\n",
       "      <td>3</td>\n",
       "      <td>Normal_Weight</td>\n",
       "    </tr>\n",
       "    <tr>\n",
       "      <th>2</th>\n",
       "      <td>1</td>\n",
       "      <td>23.0</td>\n",
       "      <td>1.80</td>\n",
       "      <td>77.0</td>\n",
       "      <td>1</td>\n",
       "      <td>0</td>\n",
       "      <td>2</td>\n",
       "      <td>3</td>\n",
       "      <td>1</td>\n",
       "      <td>0</td>\n",
       "      <td>2</td>\n",
       "      <td>0</td>\n",
       "      <td>2</td>\n",
       "      <td>1</td>\n",
       "      <td>2</td>\n",
       "      <td>3</td>\n",
       "      <td>Normal_Weight</td>\n",
       "    </tr>\n",
       "    <tr>\n",
       "      <th>3</th>\n",
       "      <td>1</td>\n",
       "      <td>27.0</td>\n",
       "      <td>1.80</td>\n",
       "      <td>87.0</td>\n",
       "      <td>0</td>\n",
       "      <td>0</td>\n",
       "      <td>3</td>\n",
       "      <td>3</td>\n",
       "      <td>1</td>\n",
       "      <td>0</td>\n",
       "      <td>2</td>\n",
       "      <td>0</td>\n",
       "      <td>2</td>\n",
       "      <td>0</td>\n",
       "      <td>2</td>\n",
       "      <td>4</td>\n",
       "      <td>Overweight_Level_I</td>\n",
       "    </tr>\n",
       "    <tr>\n",
       "      <th>4</th>\n",
       "      <td>1</td>\n",
       "      <td>22.0</td>\n",
       "      <td>1.78</td>\n",
       "      <td>89.8</td>\n",
       "      <td>0</td>\n",
       "      <td>0</td>\n",
       "      <td>2</td>\n",
       "      <td>1</td>\n",
       "      <td>1</td>\n",
       "      <td>0</td>\n",
       "      <td>2</td>\n",
       "      <td>0</td>\n",
       "      <td>0</td>\n",
       "      <td>0</td>\n",
       "      <td>1</td>\n",
       "      <td>3</td>\n",
       "      <td>Overweight_Level_II</td>\n",
       "    </tr>\n",
       "  </tbody>\n",
       "</table>\n",
       "</div>"
      ],
      "text/plain": [
       "   Gender   Age  Height  Weight  FHWO  FAVC  FCVC  NCP  CAEC  SMOKE  CH2O  \\\n",
       "0       0  21.0    1.62    64.0     1     0     2    3     1      0     2   \n",
       "1       0  21.0    1.52    56.0     1     0     3    3     1      1     3   \n",
       "2       1  23.0    1.80    77.0     1     0     2    3     1      0     2   \n",
       "3       1  27.0    1.80    87.0     0     0     3    3     1      0     2   \n",
       "4       1  22.0    1.78    89.8     0     0     2    1     1      0     2   \n",
       "\n",
       "   SCC  FAF  TUE  CALC  MTRANS           NObeyesdad  \n",
       "0    0    0    1     0       3        Normal_Weight  \n",
       "1    1    3    0     1       3        Normal_Weight  \n",
       "2    0    2    1     2       3        Normal_Weight  \n",
       "3    0    2    0     2       4   Overweight_Level_I  \n",
       "4    0    0    0     1       3  Overweight_Level_II  "
      ]
     },
     "execution_count": 19,
     "metadata": {},
     "output_type": "execute_result"
    }
   ],
   "source": [
    "df.head()"
   ]
  },
  {
   "cell_type": "code",
   "execution_count": 20,
   "id": "7498463c-b02f-46be-a718-c6f1c85e0a9b",
   "metadata": {},
   "outputs": [
    {
     "data": {
      "text/plain": [
       "Gender          int32\n",
       "Age           float64\n",
       "Height        float64\n",
       "Weight        float64\n",
       "FHWO            int32\n",
       "FAVC            int32\n",
       "FCVC            int32\n",
       "NCP             int32\n",
       "CAEC            int64\n",
       "SMOKE           int32\n",
       "CH2O            int32\n",
       "SCC             int32\n",
       "FAF             int32\n",
       "TUE             int32\n",
       "CALC            int64\n",
       "MTRANS          int32\n",
       "NObeyesdad     object\n",
       "dtype: object"
      ]
     },
     "execution_count": 20,
     "metadata": {},
     "output_type": "execute_result"
    }
   ],
   "source": [
    "df.dtypes"
   ]
  },
  {
   "cell_type": "code",
   "execution_count": 21,
   "id": "e6578d1e-ebd5-457c-b391-76d05f37fb77",
   "metadata": {},
   "outputs": [
    {
     "data": {
      "text/html": [
       "<div>\n",
       "<style scoped>\n",
       "    .dataframe tbody tr th:only-of-type {\n",
       "        vertical-align: middle;\n",
       "    }\n",
       "\n",
       "    .dataframe tbody tr th {\n",
       "        vertical-align: top;\n",
       "    }\n",
       "\n",
       "    .dataframe thead th {\n",
       "        text-align: right;\n",
       "    }\n",
       "</style>\n",
       "<table border=\"1\" class=\"dataframe\">\n",
       "  <thead>\n",
       "    <tr style=\"text-align: right;\">\n",
       "      <th></th>\n",
       "      <th>Gender</th>\n",
       "      <th>Age</th>\n",
       "      <th>Height</th>\n",
       "      <th>Weight</th>\n",
       "      <th>FHWO</th>\n",
       "      <th>FAVC</th>\n",
       "      <th>FCVC</th>\n",
       "      <th>NCP</th>\n",
       "      <th>CAEC</th>\n",
       "      <th>SMOKE</th>\n",
       "      <th>CH2O</th>\n",
       "      <th>SCC</th>\n",
       "      <th>FAF</th>\n",
       "      <th>TUE</th>\n",
       "      <th>CALC</th>\n",
       "      <th>MTRANS</th>\n",
       "    </tr>\n",
       "  </thead>\n",
       "  <tbody>\n",
       "    <tr>\n",
       "      <th>Gender</th>\n",
       "      <td>1.000000</td>\n",
       "      <td>0.048394</td>\n",
       "      <td>0.618466</td>\n",
       "      <td>0.161668</td>\n",
       "      <td>0.102512</td>\n",
       "      <td>0.064934</td>\n",
       "      <td>-0.317272</td>\n",
       "      <td>0.023921</td>\n",
       "      <td>-0.091543</td>\n",
       "      <td>0.044698</td>\n",
       "      <td>0.194832</td>\n",
       "      <td>-0.102633</td>\n",
       "      <td>0.174468</td>\n",
       "      <td>0.071148</td>\n",
       "      <td>-0.007616</td>\n",
       "      <td>-0.137537</td>\n",
       "    </tr>\n",
       "    <tr>\n",
       "      <th>Age</th>\n",
       "      <td>0.048394</td>\n",
       "      <td>1.000000</td>\n",
       "      <td>-0.025958</td>\n",
       "      <td>0.202560</td>\n",
       "      <td>0.205725</td>\n",
       "      <td>0.063902</td>\n",
       "      <td>-0.016069</td>\n",
       "      <td>-0.071102</td>\n",
       "      <td>-0.083739</td>\n",
       "      <td>0.091987</td>\n",
       "      <td>-0.098992</td>\n",
       "      <td>-0.116283</td>\n",
       "      <td>-0.170416</td>\n",
       "      <td>-0.241917</td>\n",
       "      <td>0.044487</td>\n",
       "      <td>-0.601945</td>\n",
       "    </tr>\n",
       "    <tr>\n",
       "      <th>Height</th>\n",
       "      <td>0.618466</td>\n",
       "      <td>-0.025958</td>\n",
       "      <td>1.000000</td>\n",
       "      <td>0.463136</td>\n",
       "      <td>0.247684</td>\n",
       "      <td>0.178364</td>\n",
       "      <td>-0.070032</td>\n",
       "      <td>0.214633</td>\n",
       "      <td>-0.048818</td>\n",
       "      <td>0.055499</td>\n",
       "      <td>0.191061</td>\n",
       "      <td>-0.133753</td>\n",
       "      <td>0.234248</td>\n",
       "      <td>-0.006181</td>\n",
       "      <td>0.129732</td>\n",
       "      <td>-0.073609</td>\n",
       "    </tr>\n",
       "    <tr>\n",
       "      <th>Weight</th>\n",
       "      <td>0.161668</td>\n",
       "      <td>0.202560</td>\n",
       "      <td>0.463136</td>\n",
       "      <td>1.000000</td>\n",
       "      <td>0.496820</td>\n",
       "      <td>0.272300</td>\n",
       "      <td>0.201087</td>\n",
       "      <td>0.126058</td>\n",
       "      <td>-0.287493</td>\n",
       "      <td>0.025746</td>\n",
       "      <td>0.052705</td>\n",
       "      <td>-0.201906</td>\n",
       "      <td>-0.158726</td>\n",
       "      <td>-0.274960</td>\n",
       "      <td>0.206677</td>\n",
       "      <td>0.004610</td>\n",
       "    </tr>\n",
       "    <tr>\n",
       "      <th>FHWO</th>\n",
       "      <td>0.102512</td>\n",
       "      <td>0.205725</td>\n",
       "      <td>0.247684</td>\n",
       "      <td>0.496820</td>\n",
       "      <td>1.000000</td>\n",
       "      <td>0.208036</td>\n",
       "      <td>0.008332</td>\n",
       "      <td>0.052504</td>\n",
       "      <td>-0.169787</td>\n",
       "      <td>0.017385</td>\n",
       "      <td>0.053889</td>\n",
       "      <td>-0.185422</td>\n",
       "      <td>-0.128375</td>\n",
       "      <td>-0.097283</td>\n",
       "      <td>-0.036676</td>\n",
       "      <td>-0.101540</td>\n",
       "    </tr>\n",
       "    <tr>\n",
       "      <th>FAVC</th>\n",
       "      <td>0.064934</td>\n",
       "      <td>0.063902</td>\n",
       "      <td>0.178364</td>\n",
       "      <td>0.272300</td>\n",
       "      <td>0.208036</td>\n",
       "      <td>1.000000</td>\n",
       "      <td>-0.073482</td>\n",
       "      <td>-0.019162</td>\n",
       "      <td>-0.150068</td>\n",
       "      <td>-0.050660</td>\n",
       "      <td>-0.082638</td>\n",
       "      <td>-0.190658</td>\n",
       "      <td>-0.156302</td>\n",
       "      <td>-0.054783</td>\n",
       "      <td>0.089520</td>\n",
       "      <td>-0.069800</td>\n",
       "    </tr>\n",
       "    <tr>\n",
       "      <th>FCVC</th>\n",
       "      <td>-0.317272</td>\n",
       "      <td>-0.016069</td>\n",
       "      <td>-0.070032</td>\n",
       "      <td>0.201087</td>\n",
       "      <td>0.008332</td>\n",
       "      <td>-0.073482</td>\n",
       "      <td>1.000000</td>\n",
       "      <td>0.138510</td>\n",
       "      <td>0.100727</td>\n",
       "      <td>0.025567</td>\n",
       "      <td>0.037495</td>\n",
       "      <td>0.070328</td>\n",
       "      <td>0.019344</td>\n",
       "      <td>-0.150120</td>\n",
       "      <td>0.085690</td>\n",
       "      <td>0.105084</td>\n",
       "    </tr>\n",
       "    <tr>\n",
       "      <th>NCP</th>\n",
       "      <td>0.023921</td>\n",
       "      <td>-0.071102</td>\n",
       "      <td>0.214633</td>\n",
       "      <td>0.126058</td>\n",
       "      <td>0.052504</td>\n",
       "      <td>-0.019162</td>\n",
       "      <td>0.138510</td>\n",
       "      <td>1.000000</td>\n",
       "      <td>0.122478</td>\n",
       "      <td>0.035825</td>\n",
       "      <td>0.067431</td>\n",
       "      <td>-0.006166</td>\n",
       "      <td>0.126888</td>\n",
       "      <td>0.028048</td>\n",
       "      <td>0.116039</td>\n",
       "      <td>-0.012480</td>\n",
       "    </tr>\n",
       "    <tr>\n",
       "      <th>CAEC</th>\n",
       "      <td>-0.091543</td>\n",
       "      <td>-0.083739</td>\n",
       "      <td>-0.048818</td>\n",
       "      <td>-0.287493</td>\n",
       "      <td>-0.169787</td>\n",
       "      <td>-0.150068</td>\n",
       "      <td>0.100727</td>\n",
       "      <td>0.122478</td>\n",
       "      <td>1.000000</td>\n",
       "      <td>0.055282</td>\n",
       "      <td>-0.048315</td>\n",
       "      <td>0.109179</td>\n",
       "      <td>0.098121</td>\n",
       "      <td>0.157565</td>\n",
       "      <td>-0.047540</td>\n",
       "      <td>0.048535</td>\n",
       "    </tr>\n",
       "    <tr>\n",
       "      <th>SMOKE</th>\n",
       "      <td>0.044698</td>\n",
       "      <td>0.091987</td>\n",
       "      <td>0.055499</td>\n",
       "      <td>0.025746</td>\n",
       "      <td>0.017385</td>\n",
       "      <td>-0.050660</td>\n",
       "      <td>0.025567</td>\n",
       "      <td>0.035825</td>\n",
       "      <td>0.055282</td>\n",
       "      <td>1.000000</td>\n",
       "      <td>0.014689</td>\n",
       "      <td>0.047731</td>\n",
       "      <td>0.022590</td>\n",
       "      <td>0.063889</td>\n",
       "      <td>0.082471</td>\n",
       "      <td>-0.010702</td>\n",
       "    </tr>\n",
       "    <tr>\n",
       "      <th>CH2O</th>\n",
       "      <td>0.194832</td>\n",
       "      <td>-0.098992</td>\n",
       "      <td>0.191061</td>\n",
       "      <td>0.052705</td>\n",
       "      <td>0.053889</td>\n",
       "      <td>-0.082638</td>\n",
       "      <td>0.037495</td>\n",
       "      <td>0.067431</td>\n",
       "      <td>-0.048315</td>\n",
       "      <td>0.014689</td>\n",
       "      <td>1.000000</td>\n",
       "      <td>0.070662</td>\n",
       "      <td>0.266097</td>\n",
       "      <td>0.095753</td>\n",
       "      <td>0.041402</td>\n",
       "      <td>0.044987</td>\n",
       "    </tr>\n",
       "    <tr>\n",
       "      <th>SCC</th>\n",
       "      <td>-0.102633</td>\n",
       "      <td>-0.116283</td>\n",
       "      <td>-0.133753</td>\n",
       "      <td>-0.201906</td>\n",
       "      <td>-0.185422</td>\n",
       "      <td>-0.190658</td>\n",
       "      <td>0.070328</td>\n",
       "      <td>-0.006166</td>\n",
       "      <td>0.109179</td>\n",
       "      <td>0.047731</td>\n",
       "      <td>0.070662</td>\n",
       "      <td>1.000000</td>\n",
       "      <td>0.094120</td>\n",
       "      <td>0.032761</td>\n",
       "      <td>0.003463</td>\n",
       "      <td>0.043157</td>\n",
       "    </tr>\n",
       "    <tr>\n",
       "      <th>FAF</th>\n",
       "      <td>0.174468</td>\n",
       "      <td>-0.170416</td>\n",
       "      <td>0.234248</td>\n",
       "      <td>-0.158726</td>\n",
       "      <td>-0.128375</td>\n",
       "      <td>-0.156302</td>\n",
       "      <td>0.019344</td>\n",
       "      <td>0.126888</td>\n",
       "      <td>0.098121</td>\n",
       "      <td>0.022590</td>\n",
       "      <td>0.266097</td>\n",
       "      <td>0.094120</td>\n",
       "      <td>1.000000</td>\n",
       "      <td>0.134370</td>\n",
       "      <td>-0.085458</td>\n",
       "      <td>0.008359</td>\n",
       "    </tr>\n",
       "    <tr>\n",
       "      <th>TUE</th>\n",
       "      <td>0.071148</td>\n",
       "      <td>-0.241917</td>\n",
       "      <td>-0.006181</td>\n",
       "      <td>-0.274960</td>\n",
       "      <td>-0.097283</td>\n",
       "      <td>-0.054783</td>\n",
       "      <td>-0.150120</td>\n",
       "      <td>0.028048</td>\n",
       "      <td>0.157565</td>\n",
       "      <td>0.063889</td>\n",
       "      <td>0.095753</td>\n",
       "      <td>0.032761</td>\n",
       "      <td>0.134370</td>\n",
       "      <td>1.000000</td>\n",
       "      <td>-0.091194</td>\n",
       "      <td>0.138015</td>\n",
       "    </tr>\n",
       "    <tr>\n",
       "      <th>CALC</th>\n",
       "      <td>-0.007616</td>\n",
       "      <td>0.044487</td>\n",
       "      <td>0.129732</td>\n",
       "      <td>0.206677</td>\n",
       "      <td>-0.036676</td>\n",
       "      <td>0.089520</td>\n",
       "      <td>0.085690</td>\n",
       "      <td>0.116039</td>\n",
       "      <td>-0.047540</td>\n",
       "      <td>0.082471</td>\n",
       "      <td>0.041402</td>\n",
       "      <td>0.003463</td>\n",
       "      <td>-0.085458</td>\n",
       "      <td>-0.091194</td>\n",
       "      <td>1.000000</td>\n",
       "      <td>0.012452</td>\n",
       "    </tr>\n",
       "    <tr>\n",
       "      <th>MTRANS</th>\n",
       "      <td>-0.137537</td>\n",
       "      <td>-0.601945</td>\n",
       "      <td>-0.073609</td>\n",
       "      <td>0.004610</td>\n",
       "      <td>-0.101540</td>\n",
       "      <td>-0.069800</td>\n",
       "      <td>0.105084</td>\n",
       "      <td>-0.012480</td>\n",
       "      <td>0.048535</td>\n",
       "      <td>-0.010702</td>\n",
       "      <td>0.044987</td>\n",
       "      <td>0.043157</td>\n",
       "      <td>0.008359</td>\n",
       "      <td>0.138015</td>\n",
       "      <td>0.012452</td>\n",
       "      <td>1.000000</td>\n",
       "    </tr>\n",
       "  </tbody>\n",
       "</table>\n",
       "</div>"
      ],
      "text/plain": [
       "          Gender       Age    Height    Weight      FHWO      FAVC      FCVC  \\\n",
       "Gender  1.000000  0.048394  0.618466  0.161668  0.102512  0.064934 -0.317272   \n",
       "Age     0.048394  1.000000 -0.025958  0.202560  0.205725  0.063902 -0.016069   \n",
       "Height  0.618466 -0.025958  1.000000  0.463136  0.247684  0.178364 -0.070032   \n",
       "Weight  0.161668  0.202560  0.463136  1.000000  0.496820  0.272300  0.201087   \n",
       "FHWO    0.102512  0.205725  0.247684  0.496820  1.000000  0.208036  0.008332   \n",
       "FAVC    0.064934  0.063902  0.178364  0.272300  0.208036  1.000000 -0.073482   \n",
       "FCVC   -0.317272 -0.016069 -0.070032  0.201087  0.008332 -0.073482  1.000000   \n",
       "NCP     0.023921 -0.071102  0.214633  0.126058  0.052504 -0.019162  0.138510   \n",
       "CAEC   -0.091543 -0.083739 -0.048818 -0.287493 -0.169787 -0.150068  0.100727   \n",
       "SMOKE   0.044698  0.091987  0.055499  0.025746  0.017385 -0.050660  0.025567   \n",
       "CH2O    0.194832 -0.098992  0.191061  0.052705  0.053889 -0.082638  0.037495   \n",
       "SCC    -0.102633 -0.116283 -0.133753 -0.201906 -0.185422 -0.190658  0.070328   \n",
       "FAF     0.174468 -0.170416  0.234248 -0.158726 -0.128375 -0.156302  0.019344   \n",
       "TUE     0.071148 -0.241917 -0.006181 -0.274960 -0.097283 -0.054783 -0.150120   \n",
       "CALC   -0.007616  0.044487  0.129732  0.206677 -0.036676  0.089520  0.085690   \n",
       "MTRANS -0.137537 -0.601945 -0.073609  0.004610 -0.101540 -0.069800  0.105084   \n",
       "\n",
       "             NCP      CAEC     SMOKE      CH2O       SCC       FAF       TUE  \\\n",
       "Gender  0.023921 -0.091543  0.044698  0.194832 -0.102633  0.174468  0.071148   \n",
       "Age    -0.071102 -0.083739  0.091987 -0.098992 -0.116283 -0.170416 -0.241917   \n",
       "Height  0.214633 -0.048818  0.055499  0.191061 -0.133753  0.234248 -0.006181   \n",
       "Weight  0.126058 -0.287493  0.025746  0.052705 -0.201906 -0.158726 -0.274960   \n",
       "FHWO    0.052504 -0.169787  0.017385  0.053889 -0.185422 -0.128375 -0.097283   \n",
       "FAVC   -0.019162 -0.150068 -0.050660 -0.082638 -0.190658 -0.156302 -0.054783   \n",
       "FCVC    0.138510  0.100727  0.025567  0.037495  0.070328  0.019344 -0.150120   \n",
       "NCP     1.000000  0.122478  0.035825  0.067431 -0.006166  0.126888  0.028048   \n",
       "CAEC    0.122478  1.000000  0.055282 -0.048315  0.109179  0.098121  0.157565   \n",
       "SMOKE   0.035825  0.055282  1.000000  0.014689  0.047731  0.022590  0.063889   \n",
       "CH2O    0.067431 -0.048315  0.014689  1.000000  0.070662  0.266097  0.095753   \n",
       "SCC    -0.006166  0.109179  0.047731  0.070662  1.000000  0.094120  0.032761   \n",
       "FAF     0.126888  0.098121  0.022590  0.266097  0.094120  1.000000  0.134370   \n",
       "TUE     0.028048  0.157565  0.063889  0.095753  0.032761  0.134370  1.000000   \n",
       "CALC    0.116039 -0.047540  0.082471  0.041402  0.003463 -0.085458 -0.091194   \n",
       "MTRANS -0.012480  0.048535 -0.010702  0.044987  0.043157  0.008359  0.138015   \n",
       "\n",
       "            CALC    MTRANS  \n",
       "Gender -0.007616 -0.137537  \n",
       "Age     0.044487 -0.601945  \n",
       "Height  0.129732 -0.073609  \n",
       "Weight  0.206677  0.004610  \n",
       "FHWO   -0.036676 -0.101540  \n",
       "FAVC    0.089520 -0.069800  \n",
       "FCVC    0.085690  0.105084  \n",
       "NCP     0.116039 -0.012480  \n",
       "CAEC   -0.047540  0.048535  \n",
       "SMOKE   0.082471 -0.010702  \n",
       "CH2O    0.041402  0.044987  \n",
       "SCC     0.003463  0.043157  \n",
       "FAF    -0.085458  0.008359  \n",
       "TUE    -0.091194  0.138015  \n",
       "CALC    1.000000  0.012452  \n",
       "MTRANS  0.012452  1.000000  "
      ]
     },
     "execution_count": 21,
     "metadata": {},
     "output_type": "execute_result"
    }
   ],
   "source": [
    "df.corr()"
   ]
  },
  {
   "cell_type": "code",
   "execution_count": 22,
   "id": "fb6fab7a-a4b0-4ca9-9672-addb0d618ac5",
   "metadata": {},
   "outputs": [
    {
     "data": {
      "image/png": "[encoded data removed]",
      "text/plain": [
       "<Figure size 1152x432 with 2 Axes>"
      ]
     },
     "metadata": {
      "needs_background": "light"
     },
     "output_type": "display_data"
    }
   ],
   "source": [
    "# Increase the size of the heatmap.\n",
    "plt.figure(figsize=(16, 6))\n",
    "\n",
    "# Store heatmap object in a variable to easily access it when you want to include more features (such as title).\n",
    "# Set the range of values to be displayed on the colormap from -1 to 1, and set the annotation to True to display the correlation values on the heatmap.\n",
    "heatmap = sns.heatmap(df.corr(), vmin=-1, vmax=1, annot=True, cmap = \"YlGnBu\")\n",
    "\n",
    "# Give a title to the heatmap. Pad defines the distance of the title from the top of the heatmap.\n",
    "heatmap.set_title('Correlation Heatmap', fontdict={'fontsize':14}, pad=12)\n",
    "plt.show()"
   ]
  },
  {
   "cell_type": "markdown",
   "id": "a0b0eb5a-143a-4028-a3c2-89148be20ed9",
   "metadata": {},
   "source": [
    "### Models"
   ]
  },
  {
   "cell_type": "markdown",
   "id": "14e274b1-1923-4a27-b666-2405e1475767",
   "metadata": {
    "tags": []
   },
   "source": [
    "#### 1. DecisionTree Classifier"
   ]
  },
  {
   "cell_type": "code",
   "execution_count": 23,
   "id": "9c8bd593-145b-4556-beb5-601fbc3c23b2",
   "metadata": {},
   "outputs": [],
   "source": [
    "#Loading train,test & split package\n",
    "from sklearn.model_selection import train_test_split\n",
    "\n",
    "#Separate features from target variable\n",
    "X_dt = df.drop(['NObeyesdad','Weight' ,'Height'],axis=1)\n",
    "y_dt = df[['NObeyesdad']]\n",
    "\n",
    "#Split the data into training and testing with a ratio of 15:85 for testing:training\n",
    "X_dt_train, X_dt_test, y_dt_train, y_dt_test = train_test_split(X_dt, y_dt, test_size = 0.2, random_state = 42)\n",
    "\n",
    "#Loading Decision tree classifier package\n",
    "from sklearn.tree import DecisionTreeClassifier\n",
    "classifier_dt = DecisionTreeClassifier(criterion = \"gini\", random_state = 42)\n",
    "\n",
    "#Fit training data into the decision tree model\n",
    "classifier_dt.fit(X_dt_train,y_dt_train)\n",
    "\n",
    "#Predict the target value using the decision tree model\n",
    "y_dt_pred = classifier_dt.predict(X_dt_test)"
   ]
  },
  {
   "cell_type": "code",
   "execution_count": 24,
   "id": "4232c368-affa-463c-9680-10cca8cbf094",
   "metadata": {},
   "outputs": [
    {
     "name": "stdout",
     "output_type": "stream",
     "text": [
      "\n",
      "Accuracy Score: 76.36 %\n",
      "\n",
      "                     precision    recall  f1-score   support\n",
      "\n",
      "Insufficient_Weight       0.80      0.88      0.84        56\n",
      "      Normal_Weight       0.62      0.55      0.58        62\n",
      "     Obesity_Type_I       0.74      0.74      0.74        78\n",
      "    Obesity_Type_II       0.87      0.91      0.89        58\n",
      "   Obesity_Type_III       1.00      1.00      1.00        63\n",
      " Overweight_Level_I       0.60      0.68      0.64        56\n",
      "Overweight_Level_II       0.67      0.56      0.61        50\n",
      "\n",
      "           accuracy                           0.76       423\n",
      "          macro avg       0.76      0.76      0.76       423\n",
      "       weighted avg       0.76      0.76      0.76       423\n",
      "\n",
      "\n",
      "Confusion Matrix\n",
      "\n"
     ]
    },
    {
     "data": {
      "image/png": "[encoded data removed]",
      "text/plain": [
       "<Figure size 432x288 with 2 Axes>"
      ]
     },
     "metadata": {
      "needs_background": "light"
     },
     "output_type": "display_data"
    }
   ],
   "source": [
    "from sklearn.metrics import confusion_matrix, accuracy_score, f1_score, recall_score, precision_score, classification_report\n",
    "\n",
    "# Evaluating the results\n",
    "print('')\n",
    "print(\"Accuracy Score:\",round(accuracy_score(y_dt_test,y_dt_pred)*100,2),'%')\n",
    "\n",
    "print('')\n",
    "print(classification_report(y_dt_test, y_dt_pred))\n",
    "\n",
    "print('')\n",
    "print(\"Confusion Matrix\\n\")\n",
    "sns.heatmap(confusion_matrix(y_dt_test, y_dt_pred), annot = True, fmt ='g')\n",
    "plt.show()"
   ]
  },
  {
   "cell_type": "code",
   "execution_count": 25,
   "id": "de15d50c-71bd-4264-b909-180914dfdfde",
   "metadata": {},
   "outputs": [
    {
     "data": {
      "text/plain": [
       "array([0.09531411, 0.2892777 , 0.05806149, 0.02170694, 0.10074819,\n",
       "       0.06378576, 0.08223116, 0.00626098, 0.0533458 , 0.00976149,\n",
       "       0.0783307 , 0.04016304, 0.05209366, 0.04891898])"
      ]
     },
     "execution_count": 25,
     "metadata": {},
     "output_type": "execute_result"
    }
   ],
   "source": [
    "#Calculate feature importance\n",
    "importances = classifier_dt.feature_importances_\n",
    "importances"
   ]
  },
  {
   "cell_type": "code",
   "execution_count": 26,
   "id": "505fbf5d-886c-4c30-852f-6d402f0455bd",
   "metadata": {},
   "outputs": [
    {
     "data": {
      "image/png": "[encoded data removed]",
      "text/plain": [
       "<Figure size 432x288 with 1 Axes>"
      ]
     },
     "metadata": {
      "needs_background": "light"
     },
     "output_type": "display_data"
    }
   ],
   "source": [
    "#Plot feature Importance\n",
    "dt_importances = pd.Series(importances, index=X_dt.columns)\n",
    "\n",
    "fig, ax = plt.subplots()\n",
    "dt_importances.plot.bar( ax=ax)\n",
    "ax.set_title(\"Feature importances using MDI\")\n",
    "ax.set_ylabel(\"Mean decrease in impurity\")\n",
    "fig.tight_layout()"
   ]
  },
  {
   "cell_type": "markdown",
   "id": "0f0c774e-7c2d-4120-b895-9e7c3c48b704",
   "metadata": {},
   "source": [
    "##### Feature extraction and retraining the model based on the importance graph"
   ]
  },
  {
   "cell_type": "code",
   "execution_count": 27,
   "id": "7469e0a4-4c1a-4332-945d-0df78592e36e",
   "metadata": {},
   "outputs": [],
   "source": [
    "#Separate features from target variable\n",
    "X_dtf = df.drop(['NObeyesdad','Weight' ,'Height','SCC','SMOKE'],axis=1)\n",
    "y_dtf = df['NObeyesdad']\n",
    "\n",
    "#Split the data into training and testing with a ratio of 15:85 for testing:training\n",
    "X_dtf_train, X_dtf_test, y_dtf_train, y_dtf_test = train_test_split(X_dtf, y_dtf, test_size = 0.2, random_state = 42)\n",
    "\n",
    "#Loading Decision tree classifier package\n",
    "from sklearn.tree import DecisionTreeClassifier\n",
    "classifier_dtf = DecisionTreeClassifier(criterion = \"gini\", random_state = 40)\n",
    "\n",
    "#Fit training data into the decision tree model\n",
    "classifier_dtf.fit(X_dtf_train,y_dtf_train)\n",
    "\n",
    "#Predict the target value using the decision tree model\n",
    "y_dtf_pred = classifier_dtf.predict(X_dtf_test)"
   ]
  },
  {
   "cell_type": "code",
   "execution_count": 28,
   "id": "7791b717-f0bd-469f-a6d0-8cedf4f31d0f",
   "metadata": {},
   "outputs": [
    {
     "name": "stdout",
     "output_type": "stream",
     "text": [
      "\n",
      "Accuracy Score: 75.65 %\n",
      "\n",
      "                     precision    recall  f1-score   support\n",
      "\n",
      "Insufficient_Weight       0.75      0.88      0.81        56\n",
      "      Normal_Weight       0.57      0.40      0.47        62\n",
      "     Obesity_Type_I       0.73      0.77      0.75        78\n",
      "    Obesity_Type_II       0.85      0.91      0.88        58\n",
      "   Obesity_Type_III       1.00      1.00      1.00        63\n",
      " Overweight_Level_I       0.62      0.73      0.67        56\n",
      "Overweight_Level_II       0.71      0.58      0.64        50\n",
      "\n",
      "           accuracy                           0.76       423\n",
      "          macro avg       0.75      0.75      0.75       423\n",
      "       weighted avg       0.75      0.76      0.75       423\n",
      "\n",
      "\n",
      "Confusion Matrix\n",
      "\n"
     ]
    },
    {
     "data": {
      "image/png": "[encoded data removed]",
      "text/plain": [
       "<Figure size 432x288 with 2 Axes>"
      ]
     },
     "metadata": {
      "needs_background": "light"
     },
     "output_type": "display_data"
    }
   ],
   "source": [
    "from sklearn.metrics import confusion_matrix, accuracy_score, f1_score, recall_score, precision_score, classification_report\n",
    "\n",
    "# Evaluating the results\n",
    "print('')\n",
    "print(\"Accuracy Score:\",round(accuracy_score(y_dtf_test,y_dtf_pred)*100,2),'%')\n",
    "\n",
    "print('')\n",
    "print(classification_report(y_dtf_test, y_dtf_pred))\n",
    "\n",
    "print('')\n",
    "print(\"Confusion Matrix\\n\")\n",
    "sns.heatmap(confusion_matrix(y_dtf_test, y_dtf_pred), annot = True, fmt ='g')\n",
    "plt.show()"
   ]
  },
  {
   "cell_type": "markdown",
   "id": "9d27263e-c9b1-4bd8-a06a-41243c429c8e",
   "metadata": {
    "tags": []
   },
   "source": [
    "#### 2. RandomForest Classifier"
   ]
  },
  {
   "cell_type": "code",
   "execution_count": 29,
   "id": "8b67e730-0ed0-4f31-936f-5cfc4f5e7f3e",
   "metadata": {},
   "outputs": [],
   "source": [
    "#Separate features from target variable and save in X\n",
    "X_rf = df.drop(['NObeyesdad','Height','Weight'],axis=1)\n",
    "\n",
    "#Separate the target and save it in y\n",
    "y_rf = df['NObeyesdad']\n",
    "\n",
    "# Splitting the dataset into the Training set and Test set\n",
    "X_rf_train, X_rf_test, y_rf_train, y_rf_test = train_test_split(X_rf, y_rf, test_size=0.2)\n",
    "\n",
    "# Fitting classifier to the Training set\n",
    "from sklearn.ensemble import RandomForestClassifier\n",
    "classifier_rf = RandomForestClassifier(n_estimators = 100, criterion = 'entropy', random_state = 0)\n",
    "classifier_rf.fit(X_rf_train, y_rf_train)\n",
    "\n",
    "# Predicting the Test set results\n",
    "y_rf_pred = classifier_rf.predict(X_rf_test)"
   ]
  },
  {
   "cell_type": "code",
   "execution_count": 30,
   "id": "977f9cb8-0ff3-4ce5-a5cb-f37a9260d4f4",
   "metadata": {},
   "outputs": [
    {
     "name": "stdout",
     "output_type": "stream",
     "text": [
      "\n",
      "Accuracy Score: 84.63 %\n",
      "\n",
      "                     precision    recall  f1-score   support\n",
      "\n",
      "Insufficient_Weight       0.80      0.86      0.83        51\n",
      "      Normal_Weight       0.64      0.71      0.67        51\n",
      "     Obesity_Type_I       0.84      0.86      0.85        66\n",
      "    Obesity_Type_II       0.94      0.91      0.92        66\n",
      "   Obesity_Type_III       0.99      0.99      0.99        76\n",
      " Overweight_Level_I       0.85      0.76      0.80        62\n",
      "Overweight_Level_II       0.80      0.76      0.78        51\n",
      "\n",
      "           accuracy                           0.85       423\n",
      "          macro avg       0.84      0.84      0.84       423\n",
      "       weighted avg       0.85      0.85      0.85       423\n",
      "\n",
      "\n",
      "Confusion Matrix\n",
      "\n"
     ]
    },
    {
     "data": {
      "image/png": "[encoded data removed]",
      "text/plain": [
       "<Figure size 432x288 with 2 Axes>"
      ]
     },
     "metadata": {
      "needs_background": "light"
     },
     "output_type": "display_data"
    }
   ],
   "source": [
    "from sklearn.metrics import confusion_matrix, accuracy_score, f1_score, recall_score, precision_score, classification_report\n",
    "\n",
    "# Evaluating the results\n",
    "print('')\n",
    "print(\"Accuracy Score:\",round(accuracy_score(y_rf_test,y_rf_pred)*100,2),'%')\n",
    "\n",
    "print('')\n",
    "print(classification_report(y_rf_test, y_rf_pred))\n",
    "\n",
    "print('')\n",
    "print(\"Confusion Matrix\\n\")\n",
    "sns.heatmap(confusion_matrix(y_rf_test, y_rf_pred), annot = True, fmt ='g')\n",
    "plt.show()"
   ]
  },
  {
   "cell_type": "code",
   "execution_count": 31,
   "id": "9043f89b-eeb2-41c7-852f-3fac96aac26d",
   "metadata": {},
   "outputs": [],
   "source": [
    "from rfpimp import *\n",
    "\n",
    "#Function for feature importance plot\n",
    "def showimp(rf, X, y):\n",
    "    features = list(X.columns)\n",
    "    I = importances(rf, X, y, features=features)\n",
    "    plot_importances(I, color='#4575b4')"
   ]
  },
  {
   "cell_type": "code",
   "execution_count": 32,
   "id": "a9f45da3-61ba-43e5-88f3-5ca3a60264fb",
   "metadata": {},
   "outputs": [
    {
     "data": {
      "image/png": "[encoded data removed]",
      "text/plain": [
       "<Figure size 288x223.2 with 1 Axes>"
      ]
     },
     "metadata": {
      "needs_background": "light"
     },
     "output_type": "display_data"
    }
   ],
   "source": [
    "showimp(classifier_rf, X_rf, y_rf)"
   ]
  },
  {
   "cell_type": "markdown",
   "id": "18ab11f4-c7d4-41d6-af88-0f3d1fcf8f75",
   "metadata": {},
   "source": [
    "##### Feature extraction and retraining the model based on the importance graph"
   ]
  },
  {
   "cell_type": "code",
   "execution_count": 48,
   "id": "dd3dfc91-c147-4bb4-97eb-a462ac9615f3",
   "metadata": {},
   "outputs": [],
   "source": [
    "#Separate features from target variable and save in X\n",
    "X_rff = df.drop(['NObeyesdad','Height','Weight','SMOKE'],axis=1)\n",
    "\n",
    "#Separate the target and save it in y\n",
    "y_rff = df['NObeyesdad']\n",
    "\n",
    "# Splitting the dataset into the Training set and Test set\n",
    "X_rff_train, X_rff_test, y_rff_train, y_rff_test = train_test_split(X_rff, y_rff, test_size=0.2)\n",
    "\n",
    "# Fitting classifier to the Training set\n",
    "from sklearn.ensemble import RandomForestClassifier\n",
    "classifier_rff = RandomForestClassifier(n_estimators = 120, criterion = 'entropy', random_state = 0)\n",
    "classifier_rff.fit(X_rff_train, y_rff_train)\n",
    "\n",
    "# Predicting the Test set results\n",
    "y_rff_pred = classifier_rff.predict(X_rff_test)"
   ]
  },
  {
   "cell_type": "code",
   "execution_count": 49,
   "id": "1904f088-1653-49ee-9433-a563363576cc",
   "metadata": {},
   "outputs": [
    {
     "name": "stdout",
     "output_type": "stream",
     "text": [
      "\n",
      "Accuracy Score: 84.63 %\n",
      "\n",
      "                     precision    recall  f1-score   support\n",
      "\n",
      "Insufficient_Weight       0.84      0.94      0.89        63\n",
      "      Normal_Weight       0.71      0.69      0.70        64\n",
      "     Obesity_Type_I       0.83      0.84      0.84        64\n",
      "    Obesity_Type_II       0.86      0.88      0.87        50\n",
      "   Obesity_Type_III       1.00      0.99      0.99        70\n",
      " Overweight_Level_I       0.83      0.80      0.81        54\n",
      "Overweight_Level_II       0.83      0.78      0.80        58\n",
      "\n",
      "           accuracy                           0.85       423\n",
      "          macro avg       0.84      0.84      0.84       423\n",
      "       weighted avg       0.85      0.85      0.85       423\n",
      "\n",
      "\n",
      "Confusion Matrix\n",
      "\n"
     ]
    },
    {
     "data": {
      "image/png": "[encoded data removed]",
      "text/plain": [
       "<Figure size 432x288 with 2 Axes>"
      ]
     },
     "metadata": {
      "needs_background": "light"
     },
     "output_type": "display_data"
    }
   ],
   "source": [
    "from sklearn.metrics import confusion_matrix, accuracy_score, f1_score, recall_score, precision_score, classification_report\n",
    "\n",
    "# Evaluating the results\n",
    "print('')\n",
    "print(\"Accuracy Score:\",round(accuracy_score(y_rff_test,y_rff_pred)*100,2),'%')\n",
    "\n",
    "print('')\n",
    "print(classification_report(y_rff_test, y_rff_pred))\n",
    "\n",
    "print('')\n",
    "print(\"Confusion Matrix\\n\")\n",
    "sns.heatmap(confusion_matrix(y_rff_test, y_rff_pred), annot = True, fmt ='g')\n",
    "plt.show()"
   ]
  },
  {
   "cell_type": "markdown",
   "id": "2650406b-eefb-43e2-bd23-c8cc7736e997",
   "metadata": {
    "tags": []
   },
   "source": [
    "#### 3. KNN Classifier"
   ]
  },
  {
   "cell_type": "code",
   "execution_count": 35,
   "id": "28cc77c8-9add-4f17-9787-c4dc3602e3f8",
   "metadata": {},
   "outputs": [],
   "source": [
    "#Separate features from target variable and save in X\n",
    "X_knn = df.drop(['NObeyesdad','Height','Weight'],axis=1)\n",
    "\n",
    "#Separate the target and save it in y\n",
    "y_knn = df['NObeyesdad']\n",
    "\n",
    "# Splitting the dataset into the Training set and Test set\n",
    "X_knn_train, X_knn_test, y_knn_train, y_knn_test = train_test_split(X_knn, y_knn, test_size=0.2,stratify=y_knn, random_state=42)\n",
    "\n",
    "# Fitting classifier to the Training set\n",
    "from sklearn.neighbors import KNeighborsClassifier\n",
    "classifier_knn = KNeighborsClassifier(n_neighbors=5, p=2, weights='uniform', algorithm='auto')\n",
    "classifier_knn.fit(X_knn_train, y_knn_train)\n",
    "\n",
    "# Predicting the Test set results\n",
    "y_knn_pred = classifier_knn.predict(X_knn_test)"
   ]
  },
  {
   "cell_type": "code",
   "execution_count": 36,
   "id": "6ce92cd3-449a-4d0d-aeef-980a7a887951",
   "metadata": {},
   "outputs": [
    {
     "name": "stdout",
     "output_type": "stream",
     "text": [
      "\n",
      "Accuracy Score: 74.47 %\n",
      "\n",
      "                     precision    recall  f1-score   support\n",
      "\n",
      "Insufficient_Weight       0.67      0.94      0.78        54\n",
      "      Normal_Weight       0.69      0.34      0.46        58\n",
      "     Obesity_Type_I       0.68      0.76      0.72        70\n",
      "    Obesity_Type_II       0.77      0.90      0.83        60\n",
      "   Obesity_Type_III       0.93      0.98      0.96        65\n",
      " Overweight_Level_I       0.70      0.60      0.65        58\n",
      "Overweight_Level_II       0.75      0.66      0.70        58\n",
      "\n",
      "           accuracy                           0.74       423\n",
      "          macro avg       0.74      0.74      0.73       423\n",
      "       weighted avg       0.74      0.74      0.73       423\n",
      "\n",
      "\n",
      "Confusion Matrix\n",
      "\n"
     ]
    },
    {
     "data": {
      "image/png": "[encoded data removed]",
      "text/plain": [
       "<Figure size 432x288 with 2 Axes>"
      ]
     },
     "metadata": {
      "needs_background": "light"
     },
     "output_type": "display_data"
    }
   ],
   "source": [
    "from sklearn.metrics import confusion_matrix, accuracy_score, f1_score, recall_score, precision_score, classification_report\n",
    "\n",
    "# Evaluating the results\n",
    "print('')\n",
    "print(\"Accuracy Score:\",round(accuracy_score(y_knn_test,y_knn_pred)*100,2),'%')\n",
    "\n",
    "print('')\n",
    "print(classification_report(y_knn_test, y_knn_pred))\n",
    "\n",
    "print('')\n",
    "print(\"Confusion Matrix\\n\")\n",
    "sns.heatmap(confusion_matrix(y_knn_test, y_knn_pred), annot = True, fmt ='g')\n",
    "plt.show()"
   ]
  },
  {
   "cell_type": "code",
   "execution_count": 37,
   "id": "c74b15dd-c8a9-4e87-ada6-d9e303283963",
   "metadata": {},
   "outputs": [
    {
     "name": "stdout",
     "output_type": "stream",
     "text": [
      "Fitting 10 folds for each of 144 candidates, totalling 1440 fits\n",
      "Best Score: 0.797 \n",
      "Best Parameters:  {'kneighborsclassifier__algorithm': 'auto', 'kneighborsclassifier__n_neighbors': 2, 'kneighborsclassifier__p': 1, 'kneighborsclassifier__weights': 'distance'}\n",
      "Score: 0.794\n"
     ]
    }
   ],
   "source": [
    "from sklearn.neighbors import KNeighborsClassifier\n",
    "from sklearn.preprocessing import StandardScaler\n",
    "from sklearn.pipeline import make_pipeline\n",
    "from sklearn import datasets\n",
    "from sklearn.model_selection import train_test_split\n",
    "from sklearn.metrics import accuracy_score\n",
    "from sklearn.model_selection import GridSearchCV\n",
    "\n",
    "#Separate features from target variable and save in X\n",
    "X_knnf = df.drop(['NObeyesdad','Height','Weight'],axis=1)\n",
    "\n",
    "#Separate the target and save it in y\n",
    "y_knnf = df['NObeyesdad']\n",
    "\n",
    "# Splitting the dataset into the Training set and Test set\n",
    "X_knnf_train, X_knnf_test, y_knnf_train, y_knnf_test = train_test_split(X_knnf, y_knnf, test_size=0.2,stratify=y_knnf, random_state=42)\n",
    "\n",
    "\n",
    "# Create a pipeline\n",
    "pipeline = make_pipeline(StandardScaler(), KNeighborsClassifier())\n",
    "\n",
    "# Create the parameter grid\n",
    "param_grid = [{\n",
    "    'kneighborsclassifier__n_neighbors': [2, 3, 4, 5, 6, 7, 8, 9, 10],\n",
    "    'kneighborsclassifier__p': [1, 2],\n",
    "    'kneighborsclassifier__weights': ['uniform', 'distance'],\n",
    "    'kneighborsclassifier__algorithm': ['auto', 'ball_tree', 'kd_tree', 'brute'],\n",
    "}]\n",
    "\n",
    "# Create a grid search instance\n",
    "gs = GridSearchCV(pipeline, param_grid = param_grid,\n",
    "                  scoring='accuracy',\n",
    "                  refit=True,\n",
    "                  cv=10,\n",
    "                  verbose=1,\n",
    "                  n_jobs=2)\n",
    "\n",
    "# Fit the most optimal model\n",
    "gs.fit(X_knnf_train, y_knnf_train)\n",
    "\n",
    "# Print the best model parameters and scores\n",
    "print('Best Score: %.3f' % gs.best_score_, '\\nBest Parameters: ', gs.best_params_)\n",
    "\n",
    "# Print the model score for test data\n",
    "print('Score: %.3f' % gs.score(X_knnf_test, y_knnf_test))"
   ]
  },
  {
   "cell_type": "code",
   "execution_count": 38,
   "id": "0656b868-e653-48cd-be3c-427d7230cb2f",
   "metadata": {},
   "outputs": [],
   "source": [
    "#Separate features from target variable and save in X\n",
    "X_knnf = df.drop(['NObeyesdad','Height','Weight'],axis=1)\n",
    "\n",
    "#Separate the target and save it in y\n",
    "y_knnf = df['NObeyesdad']\n",
    "\n",
    "# Splitting the dataset into the Training set and Test set\n",
    "X_knnf_train, X_knnf_test, y_knnf_train, y_knnf_test = train_test_split(X_knnf, y_knnf, test_size=0.2,stratify=y_knnf, random_state=42)\n",
    "\n",
    "# Fitting classifier to the Training set\n",
    "from sklearn.neighbors import KNeighborsClassifier\n",
    "classifier_knnf = KNeighborsClassifier(n_neighbors=2, p=1, weights='distance', algorithm='auto')\n",
    "classifier_knnf.fit(X_knnf_train, y_knnf_train)\n",
    "\n",
    "# Predicting the Test set results\n",
    "y_knnf_pred = classifier_knnf.predict(X_knnf_test)"
   ]
  },
  {
   "cell_type": "code",
   "execution_count": 39,
   "id": "4421a9a4-0bef-4d12-ba0e-f4c79c227f7e",
   "metadata": {},
   "outputs": [
    {
     "name": "stdout",
     "output_type": "stream",
     "text": [
      "\n",
      "Accuracy Score: 81.32 %\n",
      "\n",
      "                     precision    recall  f1-score   support\n",
      "\n",
      "Insufficient_Weight       0.78      0.94      0.86        54\n",
      "      Normal_Weight       0.73      0.57      0.64        58\n",
      "     Obesity_Type_I       0.78      0.77      0.78        70\n",
      "    Obesity_Type_II       0.79      0.90      0.84        60\n",
      "   Obesity_Type_III       0.97      0.98      0.98        65\n",
      " Overweight_Level_I       0.80      0.78      0.79        58\n",
      "Overweight_Level_II       0.80      0.74      0.77        58\n",
      "\n",
      "           accuracy                           0.81       423\n",
      "          macro avg       0.81      0.81      0.81       423\n",
      "       weighted avg       0.81      0.81      0.81       423\n",
      "\n",
      "\n",
      "Confusion Matrix\n",
      "\n"
     ]
    },
    {
     "data": {
      "image/png": "[encoded data removed]",
      "text/plain": [
       "<Figure size 432x288 with 2 Axes>"
      ]
     },
     "metadata": {
      "needs_background": "light"
     },
     "output_type": "display_data"
    }
   ],
   "source": [
    "from sklearn.metrics import confusion_matrix, accuracy_score, f1_score, recall_score, precision_score, classification_report\n",
    "\n",
    "# Evaluating the results\n",
    "print('')\n",
    "print(\"Accuracy Score:\",round(accuracy_score(y_knnf_test,y_knnf_pred)*100,2),'%')\n",
    "\n",
    "print('')\n",
    "print(classification_report(y_knnf_test, y_knnf_pred))\n",
    "\n",
    "print('')\n",
    "print(\"Confusion Matrix\\n\")\n",
    "sns.heatmap(confusion_matrix(y_knnf_test, y_knnf_pred), annot = True, fmt ='g')\n",
    "plt.show()"
   ]
  },
  {
   "cell_type": "markdown",
   "id": "33e835cb-5bdd-471f-830f-2689d224b988",
   "metadata": {
    "tags": []
   },
   "source": [
    "#### 4. SVM Classifier"
   ]
  },
  {
   "cell_type": "code",
   "execution_count": 40,
   "id": "b3502d5f-57a2-4f1e-a904-e235525e0165",
   "metadata": {},
   "outputs": [],
   "source": [
    "#Separate features from target variable and save in X\n",
    "X_svm = df.drop(['NObeyesdad','Height','Weight'],axis=1)\n",
    "\n",
    "#Separate the target and save it in y\n",
    "y_svm = df['NObeyesdad']\n",
    "\n",
    "# Splitting the dataset into the Training set and Test set\n",
    "X_svm_train, X_svm_test, y_svm_train, y_svm_test = train_test_split(X_svm, y_svm, test_size=0.2)\n",
    "\n",
    "# Fitting classifier to the Training set\n",
    "from sklearn.svm import SVC\n",
    "classifier_svm = SVC(kernel='rbf', random_state=1, gamma=0.5, C=10.0)\n",
    "classifier_svm.fit(X_svm_train, y_svm_train)\n",
    "\n",
    "\n",
    "# Predicting the Test set results\n",
    "y_svm_pred = classifier_svm.predict(X_svm_test)"
   ]
  },
  {
   "cell_type": "code",
   "execution_count": 41,
   "id": "1aa4f9fb-0c68-47b6-b8bd-61080a145b59",
   "metadata": {},
   "outputs": [
    {
     "name": "stdout",
     "output_type": "stream",
     "text": [
      "\n",
      "Accuracy Score: 79.91 %\n",
      "\n",
      "                     precision    recall  f1-score   support\n",
      "\n",
      "Insufficient_Weight       0.86      0.84      0.85        50\n",
      "      Normal_Weight       0.64      0.73      0.69        67\n",
      "     Obesity_Type_I       0.70      0.65      0.67        60\n",
      "    Obesity_Type_II       0.85      0.89      0.87        53\n",
      "   Obesity_Type_III       1.00      1.00      1.00        78\n",
      " Overweight_Level_I       0.79      0.79      0.79        56\n",
      "Overweight_Level_II       0.74      0.66      0.70        59\n",
      "\n",
      "           accuracy                           0.80       423\n",
      "          macro avg       0.80      0.79      0.79       423\n",
      "       weighted avg       0.80      0.80      0.80       423\n",
      "\n",
      "\n",
      "Confusion Matrix\n",
      "\n"
     ]
    },
    {
     "data": {
      "image/png": "[encoded data removed]",
      "text/plain": [
       "<Figure size 432x288 with 2 Axes>"
      ]
     },
     "metadata": {
      "needs_background": "light"
     },
     "output_type": "display_data"
    }
   ],
   "source": [
    "from sklearn.metrics import confusion_matrix, accuracy_score, f1_score, recall_score, precision_score, classification_report\n",
    "\n",
    "# Evaluating the results\n",
    "print('')\n",
    "print(\"Accuracy Score:\",round(accuracy_score(y_svm_test,y_svm_pred)*100,2),'%')\n",
    "\n",
    "print('')\n",
    "print(classification_report(y_svm_test, y_svm_pred))\n",
    "\n",
    "print('')\n",
    "print(\"Confusion Matrix\\n\")\n",
    "sns.heatmap(confusion_matrix(y_svm_test, y_svm_pred), annot = True, fmt ='g')\n",
    "plt.show()"
   ]
  },
  {
   "cell_type": "code",
   "execution_count": 42,
   "id": "48c5a8db-afa4-4dac-bddd-f9f625c48ac4",
   "metadata": {},
   "outputs": [
    {
     "data": {
      "image/png": "[encoded data removed]",
      "text/plain": [
       "<Figure size 432x288 with 1 Axes>"
      ]
     },
     "metadata": {
      "needs_background": "light"
     },
     "output_type": "display_data"
    }
   ],
   "source": [
    "#Plot feature importance for SVM with rbf kernel\n",
    "from sklearn.inspection import permutation_importance\n",
    "perm_importance = permutation_importance(classifier_svm, X_svm_test, y_svm_test)\n",
    "\n",
    "feature_names = list(X_svm.columns)\n",
    "features = np.array(feature_names)\n",
    "\n",
    "sorted_idx = perm_importance.importances_mean.argsort()\n",
    "plt.barh(features[sorted_idx], perm_importance.importances_mean[sorted_idx])\n",
    "plt.xlabel(\"Permutation Importance\")\n",
    "plt.show()"
   ]
  },
  {
   "cell_type": "markdown",
   "id": "050109d0-f42a-412b-b1b9-131c1ba87263",
   "metadata": {},
   "source": [
    "##### Feature extraction and retraining the model based on the importance graph"
   ]
  },
  {
   "cell_type": "code",
   "execution_count": 43,
   "id": "7f6bc1a5-b7e4-4504-9e0f-28aeb93cfa13",
   "metadata": {},
   "outputs": [],
   "source": [
    "#Separate features from target variable and save in X\n",
    "X_svmf = df.drop(['NObeyesdad','Height','Weight','SMOKE'],axis=1)\n",
    "\n",
    "#Separate the target and save it in y\n",
    "y_svmf = df['NObeyesdad']\n",
    "\n",
    "# Splitting the dataset into the Training set and Test set\n",
    "X_svmf_train, X_svmf_test, y_svmf_train, y_svmf_test = train_test_split(X_svmf, y_svmf, test_size=0.2)\n",
    "\n",
    "# Fitting classifier to the Training set\n",
    "from sklearn.svm import SVC\n",
    "classifier_svmf = SVC(kernel='rbf', random_state=10, gamma=0.8, C=1.0)\n",
    "classifier_svmf.fit(X_svmf_train, y_svmf_train)\n",
    "\n",
    "\n",
    "# Predicting the Test set results\n",
    "y_svmf_pred = classifier_svmf.predict(X_svmf_test)"
   ]
  },
  {
   "cell_type": "code",
   "execution_count": 44,
   "id": "6ddaf0ec-5cf2-4794-8ff1-fd72f0f758f2",
   "metadata": {},
   "outputs": [
    {
     "name": "stdout",
     "output_type": "stream",
     "text": [
      "\n",
      "Accuracy Score: 80.85 %\n",
      "\n",
      "                     precision    recall  f1-score   support\n",
      "\n",
      "Insufficient_Weight       0.98      0.83      0.90        52\n",
      "      Normal_Weight       0.45      0.85      0.59        48\n",
      "     Obesity_Type_I       0.86      0.85      0.85        79\n",
      "    Obesity_Type_II       0.95      0.86      0.90        65\n",
      "   Obesity_Type_III       1.00      1.00      1.00        54\n",
      " Overweight_Level_I       0.82      0.64      0.72        64\n",
      "Overweight_Level_II       0.85      0.66      0.74        61\n",
      "\n",
      "           accuracy                           0.81       423\n",
      "          macro avg       0.84      0.81      0.81       423\n",
      "       weighted avg       0.85      0.81      0.82       423\n",
      "\n",
      "\n",
      "Confusion Matrix\n",
      "\n"
     ]
    },
    {
     "data": {
      "image/png": "[encoded data removed]",
      "text/plain": [
       "<Figure size 432x288 with 2 Axes>"
      ]
     },
     "metadata": {
      "needs_background": "light"
     },
     "output_type": "display_data"
    }
   ],
   "source": [
    "from sklearn.metrics import confusion_matrix, accuracy_score, f1_score, recall_score, precision_score, classification_report\n",
    "\n",
    "# Evaluating the results\n",
    "print('')\n",
    "print(\"Accuracy Score:\",round(accuracy_score(y_svmf_test,y_svmf_pred)*100,2),'%')\n",
    "\n",
    "print('')\n",
    "print(classification_report(y_svmf_test, y_svmf_pred))\n",
    "\n",
    "print('')\n",
    "print(\"Confusion Matrix\\n\")\n",
    "sns.heatmap(confusion_matrix(y_svmf_test, y_svmf_pred), annot = True, fmt ='g')\n",
    "plt.show()"
   ]
  },
  {
   "cell_type": "markdown",
   "id": "dd36c98e-a40f-4135-94f0-4f4b10694c4d",
   "metadata": {},
   "source": [
    "#### Results"
   ]
  },
  {
   "cell_type": "code",
   "execution_count": 50,
   "id": "15be94ab-40a9-4c87-8371-431402e9e824",
   "metadata": {},
   "outputs": [],
   "source": [
    "d = {'Models': ['DecisionTree','RandomForest','KNN','SVM'], \n",
    "     'Accuracy': [round(accuracy_score(y_dt_test,y_dt_pred)*100,2),round(accuracy_score(y_rf_test,y_rf_pred)*100,2),round(accuracy_score(y_knn_test,y_knn_pred)*100,2),round(accuracy_score(y_svm_test,y_svm_pred)*100,2)],\n",
    "     'Retrained Accuracy': [round(accuracy_score(y_dtf_test,y_dtf_pred)*100,2),round(accuracy_score(y_rff_test,y_rff_pred)*100,2),round(accuracy_score(y_knnf_test,y_knnf_pred)*100,2),round(accuracy_score(y_svmf_test,y_svmf_pred)*100,2)]}"
   ]
  },
  {
   "cell_type": "code",
   "execution_count": 51,
   "id": "f2fc57c0-aa03-43b5-a299-a7862177e4cb",
   "metadata": {},
   "outputs": [
    {
     "data": {
      "text/html": [
       "<div>\n",
       "<style scoped>\n",
       "    .dataframe tbody tr th:only-of-type {\n",
       "        vertical-align: middle;\n",
       "    }\n",
       "\n",
       "    .dataframe tbody tr th {\n",
       "        vertical-align: top;\n",
       "    }\n",
       "\n",
       "    .dataframe thead th {\n",
       "        text-align: right;\n",
       "    }\n",
       "</style>\n",
       "<table border=\"1\" class=\"dataframe\">\n",
       "  <thead>\n",
       "    <tr style=\"text-align: right;\">\n",
       "      <th></th>\n",
       "      <th>Models</th>\n",
       "      <th>Accuracy</th>\n",
       "      <th>Retrained Accuracy</th>\n",
       "    </tr>\n",
       "  </thead>\n",
       "  <tbody>\n",
       "    <tr>\n",
       "      <th>0</th>\n",
       "      <td>DecisionTree</td>\n",
       "      <td>76.36</td>\n",
       "      <td>75.65</td>\n",
       "    </tr>\n",
       "    <tr>\n",
       "      <th>1</th>\n",
       "      <td>RandomForest</td>\n",
       "      <td>84.63</td>\n",
       "      <td>84.63</td>\n",
       "    </tr>\n",
       "    <tr>\n",
       "      <th>2</th>\n",
       "      <td>KNN</td>\n",
       "      <td>74.47</td>\n",
       "      <td>81.32</td>\n",
       "    </tr>\n",
       "    <tr>\n",
       "      <th>3</th>\n",
       "      <td>SVM</td>\n",
       "      <td>79.91</td>\n",
       "      <td>80.85</td>\n",
       "    </tr>\n",
       "  </tbody>\n",
       "</table>\n",
       "</div>"
      ],
      "text/plain": [
       "         Models  Accuracy  Retrained Accuracy\n",
       "0  DecisionTree     76.36               75.65\n",
       "1  RandomForest     84.63               84.63\n",
       "2           KNN     74.47               81.32\n",
       "3           SVM     79.91               80.85"
      ]
     },
     "execution_count": 51,
     "metadata": {},
     "output_type": "execute_result"
    }
   ],
   "source": [
    "result = pd.DataFrame(data=d)\n",
    "result"
   ]
  },
  {
   "cell_type": "markdown",
   "id": "324ad3e4-4b49-45fa-b835-e38e2e5233ab",
   "metadata": {},
   "source": [
    "`Out of all four models, Random Forest model has the best accuracy score before and after feature selection as listed above. Additionally, for each class of target variable the precision score is higher in Random Forest than other models. For three classes of obesity, precision score is more than 80% which is sufficient for this dataset.`"
   ]
  },
  {
   "cell_type": "code",
   "execution_count": 52,
   "id": "2153d271-5858-401b-8d00-3a331bfbd699",
   "metadata": {},
   "outputs": [
    {
     "name": "stdout",
     "output_type": "stream",
     "text": [
      "\n",
      "Accuracy Score: 84.63 %\n",
      "\n",
      "                     precision    recall  f1-score   support\n",
      "\n",
      "Insufficient_Weight       0.84      0.94      0.89        63\n",
      "      Normal_Weight       0.71      0.69      0.70        64\n",
      "     Obesity_Type_I       0.83      0.84      0.84        64\n",
      "    Obesity_Type_II       0.86      0.88      0.87        50\n",
      "   Obesity_Type_III       1.00      0.99      0.99        70\n",
      " Overweight_Level_I       0.83      0.80      0.81        54\n",
      "Overweight_Level_II       0.83      0.78      0.80        58\n",
      "\n",
      "           accuracy                           0.85       423\n",
      "          macro avg       0.84      0.84      0.84       423\n",
      "       weighted avg       0.85      0.85      0.85       423\n",
      "\n"
     ]
    }
   ],
   "source": [
    "# Evaluating the results\n",
    "print('')\n",
    "print(\"Accuracy Score:\",round(accuracy_score(y_rff_test,y_rff_pred)*100,2),'%')\n",
    "\n",
    "print('')\n",
    "print(classification_report(y_rff_test, y_rff_pred))"
   ]
  },
  {
   "cell_type": "code",
   "execution_count": null,
   "id": "0f3dc005-ea6c-4fe7-9296-9a5c704b2a93",
   "metadata": {},
   "outputs": [],
   "source": []
  }
 ],
 "metadata": {
  "kernelspec": {
   "display_name": "Python 3 (ipykernel)",
   "language": "python",
   "name": "python3"
  },
  "language_info": {
   "codemirror_mode": {
    "name": "ipython",
    "version": 3
   },
   "file_extension": ".py",
   "mimetype": "text/x-python",
   "name": "python",
   "nbconvert_exporter": "python",
   "pygments_lexer": "ipython3",
   "version": "3.9.12"
  }
 },
 "nbformat": 4,
 "nbformat_minor": 5
}
